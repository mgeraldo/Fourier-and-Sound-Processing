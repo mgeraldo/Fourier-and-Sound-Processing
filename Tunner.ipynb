{
 "cells": [
  {
   "cell_type": "markdown",
   "metadata": {},
   "source": [
    "# Tunner"
   ]
  },
  {
   "cell_type": "code",
   "execution_count": 1,
   "metadata": {},
   "outputs": [],
   "source": [
    "import pyaudio\n",
    "import wave\n",
    "import numpy as np\n",
    "import matplotlib\n",
    "import matplotlib.pyplot as plt\n",
    "import pandas as pd\n",
    "import time"
   ]
  },
  {
   "cell_type": "code",
   "execution_count": 2,
   "metadata": {},
   "outputs": [],
   "source": [
    "chunk = 1024                            # Record in chunks of 1024 samples (2**10)\n",
    "sample_format = pyaudio.paInt16         # a 16 bits integer per sample\n",
    "channels = 1                            # 1 mono, 2 stereo\n",
    "fs = 51200                              # Record at these samples per second\n",
    "seconds = 2                             # Total recording time\n",
    "T = chunk/fs                            # chunk duration .02 sec\n",
    "fmax_chunk = round(chunk/2)             # max frequency in the frequency domain (512) per each chunk\n",
    "fmax = fs*seconds//2                    # max freuqncy in the frequency domain of the hole record (25600)\n",
    "f_idx_ch = np.arange(0,fmax_chunk)/T    # frequencies in the freq domain for each chunk\n",
    "f_idx = np.arange(0,fmax)/seconds       # frequencies in the frequency domian. (np.fft.fftfreq(fs*seconds,d=1/fs)[0:fs*seconds//2-1])\n",
    "runway_time = 3                         # secs to throw away before start recording\n",
    "start_amp = 500                         # min amplitud to start recording "
   ]
  },
  {
   "cell_type": "markdown",
   "metadata": {},
   "source": [
    "## Musical notes and Tunner funciton"
   ]
  },
  {
   "cell_type": "code",
   "execution_count": 3,
   "metadata": {},
   "outputs": [],
   "source": [
    "notes_nm = ['A','A#','B','C','C#','D','D#','E','F','F#','G','G#']\n",
    "notes_fr = np.zeros(12*8)\n",
    "notes_rate = 2**(1/12) \n",
    "notes_df = pd.DataFrame(columns = ['name','frec'])\n",
    "\n",
    "for j in range(8):\n",
    "    for i in range(12):\n",
    "        if i>=3:\n",
    "            oct_idx = j+1\n",
    "        else:\n",
    "            oct_idx = j\n",
    "        new_note = pd.DataFrame([[notes_nm[i]+'-'+str(oct_idx), 27.5*(notes_rate)**(i+j*12)]] ,columns = ['name','frec'])\n",
    "        notes_df=notes_df.append(new_note, ignore_index=True)\n",
    "\n",
    "def tunner(frec):\n",
    "    if frec < 27.5:\n",
    "        return 'Too Low'\n",
    "    else: \n",
    "        for j in range(8):\n",
    "            if frec < 27.5*2**(1/24)*(notes_rate)**(j*12)*2:\n",
    "                for i in range(12):\n",
    "                    if frec < 27.5*2**(1/24)*(notes_rate)**(i+j*12):\n",
    "                        return \"{} ~{:.0%}\".format(notes_df.loc[i+j*12,['name']].values[0] , \n",
    "                                                   np.log2(frec/notes_df.loc[i+j*12,['frec']].values[0])*12)\n",
    "    return 'Too High'          "
   ]
  },
  {
   "cell_type": "code",
   "execution_count": 4,
   "metadata": {
    "scrolled": true
   },
   "outputs": [
    {
     "data": {
      "text/html": [
       "<div>\n",
       "<style scoped>\n",
       "    .dataframe tbody tr th:only-of-type {\n",
       "        vertical-align: middle;\n",
       "    }\n",
       "\n",
       "    .dataframe tbody tr th {\n",
       "        vertical-align: top;\n",
       "    }\n",
       "\n",
       "    .dataframe thead th {\n",
       "        text-align: right;\n",
       "    }\n",
       "</style>\n",
       "<table border=\"1\" class=\"dataframe\">\n",
       "  <thead>\n",
       "    <tr style=\"text-align: right;\">\n",
       "      <th></th>\n",
       "      <th>name</th>\n",
       "      <th>frec</th>\n",
       "    </tr>\n",
       "  </thead>\n",
       "  <tbody>\n",
       "    <tr>\n",
       "      <th>0</th>\n",
       "      <td>A-0</td>\n",
       "      <td>27.500000</td>\n",
       "    </tr>\n",
       "    <tr>\n",
       "      <th>1</th>\n",
       "      <td>A#-0</td>\n",
       "      <td>29.135235</td>\n",
       "    </tr>\n",
       "    <tr>\n",
       "      <th>2</th>\n",
       "      <td>B-0</td>\n",
       "      <td>30.867706</td>\n",
       "    </tr>\n",
       "    <tr>\n",
       "      <th>3</th>\n",
       "      <td>C-1</td>\n",
       "      <td>32.703196</td>\n",
       "    </tr>\n",
       "    <tr>\n",
       "      <th>4</th>\n",
       "      <td>C#-1</td>\n",
       "      <td>34.647829</td>\n",
       "    </tr>\n",
       "    <tr>\n",
       "      <th>5</th>\n",
       "      <td>D-1</td>\n",
       "      <td>36.708096</td>\n",
       "    </tr>\n",
       "    <tr>\n",
       "      <th>6</th>\n",
       "      <td>D#-1</td>\n",
       "      <td>38.890873</td>\n",
       "    </tr>\n",
       "    <tr>\n",
       "      <th>7</th>\n",
       "      <td>E-1</td>\n",
       "      <td>41.203445</td>\n",
       "    </tr>\n",
       "    <tr>\n",
       "      <th>8</th>\n",
       "      <td>F-1</td>\n",
       "      <td>43.653529</td>\n",
       "    </tr>\n",
       "    <tr>\n",
       "      <th>9</th>\n",
       "      <td>F#-1</td>\n",
       "      <td>46.249303</td>\n",
       "    </tr>\n",
       "    <tr>\n",
       "      <th>10</th>\n",
       "      <td>G-1</td>\n",
       "      <td>48.999429</td>\n",
       "    </tr>\n",
       "    <tr>\n",
       "      <th>11</th>\n",
       "      <td>G#-1</td>\n",
       "      <td>51.913087</td>\n",
       "    </tr>\n",
       "    <tr>\n",
       "      <th>12</th>\n",
       "      <td>A-1</td>\n",
       "      <td>55.000000</td>\n",
       "    </tr>\n",
       "    <tr>\n",
       "      <th>13</th>\n",
       "      <td>A#-1</td>\n",
       "      <td>58.270470</td>\n",
       "    </tr>\n",
       "    <tr>\n",
       "      <th>14</th>\n",
       "      <td>B-1</td>\n",
       "      <td>61.735413</td>\n",
       "    </tr>\n",
       "    <tr>\n",
       "      <th>15</th>\n",
       "      <td>C-2</td>\n",
       "      <td>65.406391</td>\n",
       "    </tr>\n",
       "    <tr>\n",
       "      <th>16</th>\n",
       "      <td>C#-2</td>\n",
       "      <td>69.295658</td>\n",
       "    </tr>\n",
       "    <tr>\n",
       "      <th>17</th>\n",
       "      <td>D-2</td>\n",
       "      <td>73.416192</td>\n",
       "    </tr>\n",
       "    <tr>\n",
       "      <th>18</th>\n",
       "      <td>D#-2</td>\n",
       "      <td>77.781746</td>\n",
       "    </tr>\n",
       "    <tr>\n",
       "      <th>19</th>\n",
       "      <td>E-2</td>\n",
       "      <td>82.406889</td>\n",
       "    </tr>\n",
       "    <tr>\n",
       "      <th>20</th>\n",
       "      <td>F-2</td>\n",
       "      <td>87.307058</td>\n",
       "    </tr>\n",
       "    <tr>\n",
       "      <th>21</th>\n",
       "      <td>F#-2</td>\n",
       "      <td>92.498606</td>\n",
       "    </tr>\n",
       "    <tr>\n",
       "      <th>22</th>\n",
       "      <td>G-2</td>\n",
       "      <td>97.998859</td>\n",
       "    </tr>\n",
       "    <tr>\n",
       "      <th>23</th>\n",
       "      <td>G#-2</td>\n",
       "      <td>103.826174</td>\n",
       "    </tr>\n",
       "    <tr>\n",
       "      <th>24</th>\n",
       "      <td>A-2</td>\n",
       "      <td>110.000000</td>\n",
       "    </tr>\n",
       "    <tr>\n",
       "      <th>25</th>\n",
       "      <td>A#-2</td>\n",
       "      <td>116.540940</td>\n",
       "    </tr>\n",
       "    <tr>\n",
       "      <th>26</th>\n",
       "      <td>B-2</td>\n",
       "      <td>123.470825</td>\n",
       "    </tr>\n",
       "    <tr>\n",
       "      <th>27</th>\n",
       "      <td>C-3</td>\n",
       "      <td>130.812783</td>\n",
       "    </tr>\n",
       "    <tr>\n",
       "      <th>28</th>\n",
       "      <td>C#-3</td>\n",
       "      <td>138.591315</td>\n",
       "    </tr>\n",
       "    <tr>\n",
       "      <th>29</th>\n",
       "      <td>D-3</td>\n",
       "      <td>146.832384</td>\n",
       "    </tr>\n",
       "    <tr>\n",
       "      <th>30</th>\n",
       "      <td>D#-3</td>\n",
       "      <td>155.563492</td>\n",
       "    </tr>\n",
       "    <tr>\n",
       "      <th>31</th>\n",
       "      <td>E-3</td>\n",
       "      <td>164.813778</td>\n",
       "    </tr>\n",
       "    <tr>\n",
       "      <th>32</th>\n",
       "      <td>F-3</td>\n",
       "      <td>174.614116</td>\n",
       "    </tr>\n",
       "    <tr>\n",
       "      <th>33</th>\n",
       "      <td>F#-3</td>\n",
       "      <td>184.997211</td>\n",
       "    </tr>\n",
       "    <tr>\n",
       "      <th>34</th>\n",
       "      <td>G-3</td>\n",
       "      <td>195.997718</td>\n",
       "    </tr>\n",
       "    <tr>\n",
       "      <th>35</th>\n",
       "      <td>G#-3</td>\n",
       "      <td>207.652349</td>\n",
       "    </tr>\n",
       "    <tr>\n",
       "      <th>36</th>\n",
       "      <td>A-3</td>\n",
       "      <td>220.000000</td>\n",
       "    </tr>\n",
       "    <tr>\n",
       "      <th>37</th>\n",
       "      <td>A#-3</td>\n",
       "      <td>233.081881</td>\n",
       "    </tr>\n",
       "    <tr>\n",
       "      <th>38</th>\n",
       "      <td>B-3</td>\n",
       "      <td>246.941651</td>\n",
       "    </tr>\n",
       "    <tr>\n",
       "      <th>39</th>\n",
       "      <td>C-4</td>\n",
       "      <td>261.625565</td>\n",
       "    </tr>\n",
       "    <tr>\n",
       "      <th>40</th>\n",
       "      <td>C#-4</td>\n",
       "      <td>277.182631</td>\n",
       "    </tr>\n",
       "    <tr>\n",
       "      <th>41</th>\n",
       "      <td>D-4</td>\n",
       "      <td>293.664768</td>\n",
       "    </tr>\n",
       "    <tr>\n",
       "      <th>42</th>\n",
       "      <td>D#-4</td>\n",
       "      <td>311.126984</td>\n",
       "    </tr>\n",
       "    <tr>\n",
       "      <th>43</th>\n",
       "      <td>E-4</td>\n",
       "      <td>329.627557</td>\n",
       "    </tr>\n",
       "    <tr>\n",
       "      <th>44</th>\n",
       "      <td>F-4</td>\n",
       "      <td>349.228231</td>\n",
       "    </tr>\n",
       "    <tr>\n",
       "      <th>45</th>\n",
       "      <td>F#-4</td>\n",
       "      <td>369.994423</td>\n",
       "    </tr>\n",
       "    <tr>\n",
       "      <th>46</th>\n",
       "      <td>G-4</td>\n",
       "      <td>391.995436</td>\n",
       "    </tr>\n",
       "    <tr>\n",
       "      <th>47</th>\n",
       "      <td>G#-4</td>\n",
       "      <td>415.304698</td>\n",
       "    </tr>\n",
       "    <tr>\n",
       "      <th>48</th>\n",
       "      <td>A-4</td>\n",
       "      <td>440.000000</td>\n",
       "    </tr>\n",
       "    <tr>\n",
       "      <th>49</th>\n",
       "      <td>A#-4</td>\n",
       "      <td>466.163762</td>\n",
       "    </tr>\n",
       "  </tbody>\n",
       "</table>\n",
       "</div>"
      ],
      "text/plain": [
       "    name        frec\n",
       "0    A-0   27.500000\n",
       "1   A#-0   29.135235\n",
       "2    B-0   30.867706\n",
       "3    C-1   32.703196\n",
       "4   C#-1   34.647829\n",
       "5    D-1   36.708096\n",
       "6   D#-1   38.890873\n",
       "7    E-1   41.203445\n",
       "8    F-1   43.653529\n",
       "9   F#-1   46.249303\n",
       "10   G-1   48.999429\n",
       "11  G#-1   51.913087\n",
       "12   A-1   55.000000\n",
       "13  A#-1   58.270470\n",
       "14   B-1   61.735413\n",
       "15   C-2   65.406391\n",
       "16  C#-2   69.295658\n",
       "17   D-2   73.416192\n",
       "18  D#-2   77.781746\n",
       "19   E-2   82.406889\n",
       "20   F-2   87.307058\n",
       "21  F#-2   92.498606\n",
       "22   G-2   97.998859\n",
       "23  G#-2  103.826174\n",
       "24   A-2  110.000000\n",
       "25  A#-2  116.540940\n",
       "26   B-2  123.470825\n",
       "27   C-3  130.812783\n",
       "28  C#-3  138.591315\n",
       "29   D-3  146.832384\n",
       "30  D#-3  155.563492\n",
       "31   E-3  164.813778\n",
       "32   F-3  174.614116\n",
       "33  F#-3  184.997211\n",
       "34   G-3  195.997718\n",
       "35  G#-3  207.652349\n",
       "36   A-3  220.000000\n",
       "37  A#-3  233.081881\n",
       "38   B-3  246.941651\n",
       "39   C-4  261.625565\n",
       "40  C#-4  277.182631\n",
       "41   D-4  293.664768\n",
       "42  D#-4  311.126984\n",
       "43   E-4  329.627557\n",
       "44   F-4  349.228231\n",
       "45  F#-4  369.994423\n",
       "46   G-4  391.995436\n",
       "47  G#-4  415.304698\n",
       "48   A-4  440.000000\n",
       "49  A#-4  466.163762"
      ]
     },
     "execution_count": 4,
     "metadata": {},
     "output_type": "execute_result"
    }
   ],
   "source": [
    "notes_df[0:50]"
   ]
  },
  {
   "cell_type": "markdown",
   "metadata": {},
   "source": [
    "## Play a Signal"
   ]
  },
  {
   "cell_type": "code",
   "execution_count": 19,
   "metadata": {},
   "outputs": [],
   "source": [
    "#Plays a wave in numeric fornat assuming the rate, channels and format used in the whole notebook. \n",
    "def Play(my_signal):\n",
    "    p = pyaudio.PyAudio()\n",
    "    stream_2 = p.open(format = sample_format,\n",
    "                    channels = channels,\n",
    "                    rate = fs,\n",
    "                    output = True)\n",
    "    stream_2.write(my_signal.tobytes())\n",
    "    stream_2.stop_stream()\n",
    "    stream_2.close()\n",
    "    p.terminate()"
   ]
  },
  {
   "cell_type": "markdown",
   "metadata": {},
   "source": [
    "## Creating a Sound"
   ]
  },
  {
   "cell_type": "code",
   "execution_count": 264,
   "metadata": {},
   "outputs": [],
   "source": [
    "#this functoin uses the inverse fourier transformation to create a signal using the frequescies\n",
    "#the limitation is that it rounds the frequencies to make them fit in the input of the fourier transform\n",
    "#the magnitudes here are scaled down to fit the maximum capacity of the Int16 format\n",
    "\n",
    "def Create_signal(frec_arr,amp_arr):\n",
    "    t_s = np.zeros(fs*seconds, dtype=np.int16)\n",
    "    count = 0\n",
    "    for i in (frec_arr):\n",
    "        t_s[int(i*seconds)]=amp_arr[count]\n",
    "        count+=1\n",
    "    for i in range(1,int(len(t_s)/2),1):\n",
    "        t_s[-i]=t_s[i]\n",
    "    count = 0\n",
    "    signal_=np.real(np.fft.ifft(t_s))\n",
    "    signal_*=np.iinfo(np.int16).max/max(signal_)\n",
    "    x=np.arange(0,fs*seconds)\n",
    "    fade= 2-2/(np.exp(-x/fs*seconds)+1)\n",
    "    signal_*=fade\n",
    "    signal_*=fade\n",
    "    signal_=signal_.astype(np.int16)\n",
    "    return signal_\n",
    "\n",
    "#this function uses the frequencies to create a composed wave based on cos() \n",
    "#magnitudes are adjuted to max of int16 format and the output is casted as Int16 as well\n",
    "\n",
    "def Create_signal2(frec_arr,amp_arr):\n",
    "    x=np.arange(0,fs*seconds)\n",
    "    t_s = np.zeros(fs*seconds, dtype=np.float64)\n",
    "    for i in np.arange(len(frec_arr)):\n",
    "        t_s += np.cos(x*2*np.pi*frec_arr[i]/fs)*amp_arr[i]\n",
    "    t_s *=np.iinfo(np.int16).max/max(t_s)\n",
    "    x2=np.arange(0,fs*seconds)\n",
    "    fade= (2-2/(np.exp(-x2/fs*seconds)+1))**2\n",
    "    t_s *= fade\n",
    "    return t_s.astype(np.int16)"
   ]
  },
  {
   "cell_type": "markdown",
   "metadata": {},
   "source": [
    "## Analyzing a Signal"
   ]
  },
  {
   "cell_type": "code",
   "execution_count": 341,
   "metadata": {},
   "outputs": [],
   "source": [
    "# a function to interpolate three points and find the maximum by quadratic aproximation\n",
    "# x and y are the x coordinated and the y condinates of three points\n",
    "\n",
    "def interpolate(x,y):\n",
    "    matrix=np.matrix([[x[0]**2,x[0],1],\n",
    "                      [x[1]**2,x[1],1],\n",
    "                      [x[2]**2,x[2],1]\n",
    "                     ])\n",
    "    coefs_quad = np.linalg.inv(matrix)*[[y[0]],[y[1]],[y[2]]]\n",
    "    x_max = -coefs_quad.item(1,0)/2/coefs_quad.item(0,0)\n",
    "    y_max = ([[x_max**2,x_max,1]]*coefs_quad).item(0,0)\n",
    "    return [x_max,y_max]\n",
    "    \n"
   ]
  },
  {
   "cell_type": "code",
   "execution_count": 525,
   "metadata": {},
   "outputs": [],
   "source": [
    "#a functiono that shows how a wave looks and the harmonics on it\n",
    "def describe_wave(signal):\n",
    "    f_transform = np.abs(np.fft.fft(signal)[0:fmax])      # The magnitude of the fourier transform for the posive freqs \n",
    "    fig, ax = plt.subplots(2,1)                           # Create the graphics\n",
    "    ax[0].plot(signal)                     # Print the signal\n",
    "    ax[1].plot(np.arange(0,len(f_transform))/seconds,f_transform)                # Simple plotting. The x are multiplies by the number of seconds. \n",
    "    #ax[1].plot(pd.DataFrame({'y':f_transform, 'x': np.arange(0,len(f_transform))/seconds}))               # Print the fourier transform \n",
    "    ax[1].set_xlim(0,max(np.arange(0,len(f_transform))[f_transform>max(f_transform)/10]))\n",
    "    FFT = pd.DataFrame({'f_pwr':f_transform}) \n",
    "    FFT['f_idx'] = f_idx\n",
    "    FFT.set_index('f_idx',inplace=True)\n",
    "    FFT['f_pwr_2']=np.concatenate((f_transform[[0]],f_transform[0:-1]))\n",
    "    FFT['f_pwr_3']=np.concatenate((f_transform[1:],f_transform[[-1]]))\n",
    "    \n",
    "    print('Frequency: {}\\n Tunner Output:{}'.format(FFT.idxmax(0)[0], tunner(FFT.idxmax(0)[0])))\n",
    "    \n",
    "    freq_pd = FFT.nlargest(150,'f_pwr').reset_index()\n",
    "    max_freq = []\n",
    "    freq_corr = []\n",
    "    note = []\n",
    "    for freq in freq_pd['f_idx']:\n",
    "        if (FFT.loc[freq][0]>FFT.loc[freq-1/seconds][0]) and (FFT.loc[freq][0]>FFT.loc[freq+1/seconds][0]) :\n",
    "            max_freq.append(1)\n",
    "            inter_freq=interpolate([freq,freq-1/seconds,freq+1/seconds],FFT.loc[freq].values)[0]\n",
    "            note.append(tunner(inter_freq))\n",
    "            freq_corr.append(inter_freq)\n",
    "        else:\n",
    "            max_freq.append(0)\n",
    "            note.append(0)\n",
    "            freq_corr.append(0)\n",
    "    freq_pd['max_freq']=max_freq\n",
    "    freq_pd['note']=note\n",
    "    freq_pd['f_corr']= freq_corr\n",
    "    \n",
    "    harm_pd=freq_pd[freq_pd['max_freq']==1].sort_values(['f_idx'])#.nlargest(25,'f_pwr')\n",
    "    \n",
    "    return harm_pd[['f_corr','note']]"
   ]
  },
  {
   "cell_type": "code",
   "execution_count": 541,
   "metadata": {},
   "outputs": [],
   "source": [
    "Play(Create_signal2([440.25,440],[1000,1000]))"
   ]
  },
  {
   "cell_type": "code",
   "execution_count": 291,
   "metadata": {
    "scrolled": true
   },
   "outputs": [
    {
     "data": {
      "text/plain": [
       "[<matplotlib.lines.Line2D at 0x194f2189190>]"
      ]
     },
     "execution_count": 291,
     "metadata": {},
     "output_type": "execute_result"
    },
    {
     "data": {
      "image/png": "[encoded data removed]",
      "text/plain": [
       "<Figure size 432x288 with 1 Axes>"
      ]
     },
     "metadata": {
      "needs_background": "light"
     },
     "output_type": "display_data"
    }
   ],
   "source": [
    "plt.plot(Create_signal2([440.25,440],[1000,1000]))"
   ]
  },
  {
   "cell_type": "code",
   "execution_count": 526,
   "metadata": {},
   "outputs": [
    {
     "name": "stdout",
     "output_type": "stream",
     "text": [
      "Frequency: 440.5\n",
      " Tunner Output:A-4 ~2%\n"
     ]
    },
    {
     "data": {
      "text/html": [
       "<div>\n",
       "<style scoped>\n",
       "    .dataframe tbody tr th:only-of-type {\n",
       "        vertical-align: middle;\n",
       "    }\n",
       "\n",
       "    .dataframe tbody tr th {\n",
       "        vertical-align: top;\n",
       "    }\n",
       "\n",
       "    .dataframe thead th {\n",
       "        text-align: right;\n",
       "    }\n",
       "</style>\n",
       "<table border=\"1\" class=\"dataframe\">\n",
       "  <thead>\n",
       "    <tr style=\"text-align: right;\">\n",
       "      <th></th>\n",
       "      <th>f_corr</th>\n",
       "      <th>note</th>\n",
       "    </tr>\n",
       "  </thead>\n",
       "  <tbody>\n",
       "    <tr>\n",
       "      <th>0</th>\n",
       "      <td>440.50259</td>\n",
       "      <td>A-4 ~2%</td>\n",
       "    </tr>\n",
       "  </tbody>\n",
       "</table>\n",
       "</div>"
      ],
      "text/plain": [
       "      f_corr     note\n",
       "0  440.50259  A-4 ~2%"
      ]
     },
     "execution_count": 526,
     "metadata": {},
     "output_type": "execute_result"
    },
    {
     "data": {
      "image/png": "[encoded data removed]",
      "text/plain": [
       "<Figure size 432x288 with 2 Axes>"
      ]
     },
     "metadata": {
      "needs_background": "light"
     },
     "output_type": "display_data"
    }
   ],
   "source": [
    "describe_wave(Create_signal2([440,441,440.5],[1000,1000,1000]))"
   ]
  },
  {
   "cell_type": "code",
   "execution_count": 533,
   "metadata": {},
   "outputs": [],
   "source": [
    "h_footprint=pd.read_csv('footprint_C2.csv')"
   ]
  },
  {
   "cell_type": "code",
   "execution_count": 534,
   "metadata": {},
   "outputs": [
    {
     "name": "stdout",
     "output_type": "stream",
     "text": [
      "Frequency: 655.0\n",
      " Tunner Output:E-5 ~-11%\n"
     ]
    },
    {
     "data": {
      "text/html": [
       "<div>\n",
       "<style scoped>\n",
       "    .dataframe tbody tr th:only-of-type {\n",
       "        vertical-align: middle;\n",
       "    }\n",
       "\n",
       "    .dataframe tbody tr th {\n",
       "        vertical-align: top;\n",
       "    }\n",
       "\n",
       "    .dataframe thead th {\n",
       "        text-align: right;\n",
       "    }\n",
       "</style>\n",
       "<table border=\"1\" class=\"dataframe\">\n",
       "  <thead>\n",
       "    <tr style=\"text-align: right;\">\n",
       "      <th></th>\n",
       "      <th>f_corr</th>\n",
       "      <th>note</th>\n",
       "    </tr>\n",
       "  </thead>\n",
       "  <tbody>\n",
       "    <tr>\n",
       "      <th>53</th>\n",
       "      <td>130.997833</td>\n",
       "      <td>C-3 ~2%</td>\n",
       "    </tr>\n",
       "    <tr>\n",
       "      <th>9</th>\n",
       "      <td>196.511834</td>\n",
       "      <td>G-3 ~5%</td>\n",
       "    </tr>\n",
       "    <tr>\n",
       "      <th>44</th>\n",
       "      <td>327.014101</td>\n",
       "      <td>E-4 ~-14%</td>\n",
       "    </tr>\n",
       "    <tr>\n",
       "      <th>38</th>\n",
       "      <td>392.518876</td>\n",
       "      <td>G-4 ~2%</td>\n",
       "    </tr>\n",
       "    <tr>\n",
       "      <th>5</th>\n",
       "      <td>458.029680</td>\n",
       "      <td>A#-4 ~-30%</td>\n",
       "    </tr>\n",
       "    <tr>\n",
       "      <th>12</th>\n",
       "      <td>589.032950</td>\n",
       "      <td>D-5 ~5%</td>\n",
       "    </tr>\n",
       "    <tr>\n",
       "      <th>0</th>\n",
       "      <td>655.043678</td>\n",
       "      <td>E-5 ~-11%</td>\n",
       "    </tr>\n",
       "    <tr>\n",
       "      <th>21</th>\n",
       "      <td>721.054364</td>\n",
       "      <td>F#-5 ~-45%</td>\n",
       "    </tr>\n",
       "    <tr>\n",
       "      <th>71</th>\n",
       "      <td>787.553831</td>\n",
       "      <td>G-5 ~8%</td>\n",
       "    </tr>\n",
       "    <tr>\n",
       "      <th>14</th>\n",
       "      <td>850.510813</td>\n",
       "      <td>G#-5 ~41%</td>\n",
       "    </tr>\n",
       "    <tr>\n",
       "      <th>41</th>\n",
       "      <td>854.168690</td>\n",
       "      <td>G#-5 ~48%</td>\n",
       "    </tr>\n",
       "    <tr>\n",
       "      <th>2</th>\n",
       "      <td>921.068748</td>\n",
       "      <td>A#-5 ~-21%</td>\n",
       "    </tr>\n",
       "    <tr>\n",
       "      <th>17</th>\n",
       "      <td>988.081376</td>\n",
       "      <td>B-5 ~1%</td>\n",
       "    </tr>\n",
       "    <tr>\n",
       "      <th>54</th>\n",
       "      <td>1124.590149</td>\n",
       "      <td>C#-6 ~25%</td>\n",
       "    </tr>\n",
       "    <tr>\n",
       "      <th>66</th>\n",
       "      <td>1243.571488</td>\n",
       "      <td>D#-6 ~-1%</td>\n",
       "    </tr>\n",
       "    <tr>\n",
       "      <th>24</th>\n",
       "      <td>1261.106373</td>\n",
       "      <td>D#-6 ~23%</td>\n",
       "    </tr>\n",
       "    <tr>\n",
       "      <th>10</th>\n",
       "      <td>1469.607574</td>\n",
       "      <td>F#-6 ~-12%</td>\n",
       "    </tr>\n",
       "    <tr>\n",
       "      <th>15</th>\n",
       "      <td>1539.614209</td>\n",
       "      <td>G-6 ~-32%</td>\n",
       "    </tr>\n",
       "    <tr>\n",
       "      <th>6</th>\n",
       "      <td>1575.132253</td>\n",
       "      <td>G-6 ~8%</td>\n",
       "    </tr>\n",
       "    <tr>\n",
       "      <th>45</th>\n",
       "      <td>1969.660759</td>\n",
       "      <td>B-6 ~-5%</td>\n",
       "    </tr>\n",
       "    <tr>\n",
       "      <th>1</th>\n",
       "      <td>2043.176496</td>\n",
       "      <td>C-7 ~-42%</td>\n",
       "    </tr>\n",
       "    <tr>\n",
       "      <th>39</th>\n",
       "      <td>2181.179039</td>\n",
       "      <td>C#-7 ~-29%</td>\n",
       "    </tr>\n",
       "    <tr>\n",
       "      <th>81</th>\n",
       "      <td>2189.815678</td>\n",
       "      <td>C#-7 ~-22%</td>\n",
       "    </tr>\n",
       "    <tr>\n",
       "      <th>73</th>\n",
       "      <td>2643.615097</td>\n",
       "      <td>E-7 ~4%</td>\n",
       "    </tr>\n",
       "    <tr>\n",
       "      <th>76</th>\n",
       "      <td>2645.442521</td>\n",
       "      <td>E-7 ~6%</td>\n",
       "    </tr>\n",
       "  </tbody>\n",
       "</table>\n",
       "</div>"
      ],
      "text/plain": [
       "         f_corr        note\n",
       "53   130.997833     C-3 ~2%\n",
       "9    196.511834     G-3 ~5%\n",
       "44   327.014101   E-4 ~-14%\n",
       "38   392.518876     G-4 ~2%\n",
       "5    458.029680  A#-4 ~-30%\n",
       "12   589.032950     D-5 ~5%\n",
       "0    655.043678   E-5 ~-11%\n",
       "21   721.054364  F#-5 ~-45%\n",
       "71   787.553831     G-5 ~8%\n",
       "14   850.510813   G#-5 ~41%\n",
       "41   854.168690   G#-5 ~48%\n",
       "2    921.068748  A#-5 ~-21%\n",
       "17   988.081376     B-5 ~1%\n",
       "54  1124.590149   C#-6 ~25%\n",
       "66  1243.571488   D#-6 ~-1%\n",
       "24  1261.106373   D#-6 ~23%\n",
       "10  1469.607574  F#-6 ~-12%\n",
       "15  1539.614209   G-6 ~-32%\n",
       "6   1575.132253     G-6 ~8%\n",
       "45  1969.660759    B-6 ~-5%\n",
       "1   2043.176496   C-7 ~-42%\n",
       "39  2181.179039  C#-7 ~-29%\n",
       "81  2189.815678  C#-7 ~-22%\n",
       "73  2643.615097     E-7 ~4%\n",
       "76  2645.442521     E-7 ~6%"
      ]
     },
     "execution_count": 534,
     "metadata": {},
     "output_type": "execute_result"
    },
    {
     "data": {
      "image/png": "[encoded data removed]",
      "text/plain": [
       "<Figure size 432x288 with 2 Axes>"
      ]
     },
     "metadata": {
      "needs_background": "light"
     },
     "output_type": "display_data"
    }
   ],
   "source": [
    "describe_wave(Create_signal2(h_footprint['harm']*65.406391, h_footprint['amp']))"
   ]
  },
  {
   "cell_type": "code",
   "execution_count": 546,
   "metadata": {},
   "outputs": [],
   "source": [
    "Play(Create_signal2(h_footprint['harm']*440, h_footprint['amp']))"
   ]
  },
  {
   "cell_type": "code",
   "execution_count": 545,
   "metadata": {
    "scrolled": true
   },
   "outputs": [],
   "source": [
    "Play(Create_signal2([64], [1000]))"
   ]
  },
  {
   "cell_type": "code",
   "execution_count": 587,
   "metadata": {},
   "outputs": [
    {
     "name": "stdout",
     "output_type": "stream",
     "text": [
      "Frequency: 601.0\n",
      " Tunner Output:D-5 ~40%\n"
     ]
    },
    {
     "data": {
      "text/html": [
       "<div>\n",
       "<style scoped>\n",
       "    .dataframe tbody tr th:only-of-type {\n",
       "        vertical-align: middle;\n",
       "    }\n",
       "\n",
       "    .dataframe tbody tr th {\n",
       "        vertical-align: top;\n",
       "    }\n",
       "\n",
       "    .dataframe thead th {\n",
       "        text-align: right;\n",
       "    }\n",
       "</style>\n",
       "<table border=\"1\" class=\"dataframe\">\n",
       "  <thead>\n",
       "    <tr style=\"text-align: right;\">\n",
       "      <th></th>\n",
       "      <th>f_corr</th>\n",
       "      <th>note</th>\n",
       "    </tr>\n",
       "  </thead>\n",
       "  <tbody>\n",
       "    <tr>\n",
       "      <th>10</th>\n",
       "      <td>180.291500</td>\n",
       "      <td>F#-3 ~-45%</td>\n",
       "    </tr>\n",
       "    <tr>\n",
       "      <th>6</th>\n",
       "      <td>420.146272</td>\n",
       "      <td>G#-4 ~20%</td>\n",
       "    </tr>\n",
       "    <tr>\n",
       "      <th>11</th>\n",
       "      <td>540.396247</td>\n",
       "      <td>C#-5 ~-44%</td>\n",
       "    </tr>\n",
       "    <tr>\n",
       "      <th>0</th>\n",
       "      <td>600.946334</td>\n",
       "      <td>D-5 ~40%</td>\n",
       "    </tr>\n",
       "    <tr>\n",
       "      <th>19</th>\n",
       "      <td>780.293609</td>\n",
       "      <td>G-5 ~-8%</td>\n",
       "    </tr>\n",
       "    <tr>\n",
       "      <th>3</th>\n",
       "      <td>844.975262</td>\n",
       "      <td>G#-5 ~30%</td>\n",
       "    </tr>\n",
       "    <tr>\n",
       "      <th>9</th>\n",
       "      <td>1348.124461</td>\n",
       "      <td>E-6 ~38%</td>\n",
       "    </tr>\n",
       "    <tr>\n",
       "      <th>15</th>\n",
       "      <td>1412.413994</td>\n",
       "      <td>F-6 ~19%</td>\n",
       "    </tr>\n",
       "    <tr>\n",
       "      <th>2</th>\n",
       "      <td>1444.979575</td>\n",
       "      <td>F#-6 ~-41%</td>\n",
       "    </tr>\n",
       "    <tr>\n",
       "      <th>1</th>\n",
       "      <td>1874.348881</td>\n",
       "      <td>A#-6 ~9%</td>\n",
       "    </tr>\n",
       "  </tbody>\n",
       "</table>\n",
       "</div>"
      ],
      "text/plain": [
       "         f_corr        note\n",
       "10   180.291500  F#-3 ~-45%\n",
       "6    420.146272   G#-4 ~20%\n",
       "11   540.396247  C#-5 ~-44%\n",
       "0    600.946334    D-5 ~40%\n",
       "19   780.293609    G-5 ~-8%\n",
       "3    844.975262   G#-5 ~30%\n",
       "9   1348.124461    E-6 ~38%\n",
       "15  1412.413994    F-6 ~19%\n",
       "2   1444.979575  F#-6 ~-41%\n",
       "1   1874.348881    A#-6 ~9%"
      ]
     },
     "execution_count": 587,
     "metadata": {},
     "output_type": "execute_result"
    },
    {
     "data": {
      "image/png": "[encoded data removed]",
      "text/plain": [
       "<Figure size 432x288 with 2 Axes>"
      ]
     },
     "metadata": {
      "needs_background": "light"
     },
     "output_type": "display_data"
    }
   ],
   "source": [
    "harm_num = 10\n",
    "wave = Create_signal2(np.array(h_footprint.nlargest(harm_num,['amp'])['harm']*60),  \n",
    "                      np.array(h_footprint.nlargest(harm_num,['amp'])['amp']))\n",
    "Play(wave)\n",
    "describe_wave(wave)"
   ]
  },
  {
   "cell_type": "code",
   "execution_count": 563,
   "metadata": {},
   "outputs": [
    {
     "data": {
      "text/plain": [
       "array([10.01529052, 31.23853211, 24.08256881, 14.08256881,  7.0030581 ,\n",
       "        3.00458716, 22.46941896,  9.00611621, 23.53975535, 13.00458716])"
      ]
     },
     "execution_count": 563,
     "metadata": {},
     "output_type": "execute_result"
    }
   ],
   "source": [
    " np.array( h_footprint.nlargest(10,['amp'])['harm'])"
   ]
  },
  {
   "cell_type": "code",
   "execution_count": 582,
   "metadata": {},
   "outputs": [
    {
     "name": "stdout",
     "output_type": "stream",
     "text": [
      "Frequency: 654.0\n",
      " Tunner Output:E-5 ~-14%\n"
     ]
    },
    {
     "data": {
      "text/html": [
       "<div>\n",
       "<style scoped>\n",
       "    .dataframe tbody tr th:only-of-type {\n",
       "        vertical-align: middle;\n",
       "    }\n",
       "\n",
       "    .dataframe tbody tr th {\n",
       "        vertical-align: top;\n",
       "    }\n",
       "\n",
       "    .dataframe thead th {\n",
       "        text-align: right;\n",
       "    }\n",
       "</style>\n",
       "<table border=\"1\" class=\"dataframe\">\n",
       "  <thead>\n",
       "    <tr style=\"text-align: right;\">\n",
       "      <th></th>\n",
       "      <th>f_corr</th>\n",
       "      <th>note</th>\n",
       "    </tr>\n",
       "  </thead>\n",
       "  <tbody>\n",
       "    <tr>\n",
       "      <th>9</th>\n",
       "      <td>196.169598</td>\n",
       "      <td>G-3 ~2%</td>\n",
       "    </tr>\n",
       "    <tr>\n",
       "      <th>4</th>\n",
       "      <td>457.828903</td>\n",
       "      <td>A#-4 ~-31%</td>\n",
       "    </tr>\n",
       "    <tr>\n",
       "      <th>0</th>\n",
       "      <td>654.001277</td>\n",
       "      <td>E-5 ~-14%</td>\n",
       "    </tr>\n",
       "    <tr>\n",
       "      <th>3</th>\n",
       "      <td>915.572614</td>\n",
       "      <td>A#-5 ~-31%</td>\n",
       "    </tr>\n",
       "    <tr>\n",
       "      <th>2</th>\n",
       "      <td>1569.571428</td>\n",
       "      <td>G-6 ~2%</td>\n",
       "    </tr>\n",
       "    <tr>\n",
       "      <th>1</th>\n",
       "      <td>2027.431676</td>\n",
       "      <td>B-6 ~45%</td>\n",
       "    </tr>\n",
       "  </tbody>\n",
       "</table>\n",
       "</div>"
      ],
      "text/plain": [
       "        f_corr        note\n",
       "9   196.169598     G-3 ~2%\n",
       "4   457.828903  A#-4 ~-31%\n",
       "0   654.001277   E-5 ~-14%\n",
       "3   915.572614  A#-5 ~-31%\n",
       "2  1569.571428     G-6 ~2%\n",
       "1  2027.431676    B-6 ~45%"
      ]
     },
     "execution_count": 582,
     "metadata": {},
     "output_type": "execute_result"
    },
    {
     "data": {
      "image/png": "[encoded data removed]",
      "text/plain": [
       "<Figure size 432x288 with 2 Axes>"
      ]
     },
     "metadata": {
      "needs_background": "light"
     },
     "output_type": "display_data"
    }
   ],
   "source": [
    "describe_wave(Create_signal2(np.array([10, 31, 24, 14, 7,3])*65.4, [20,20,18,18,18,15]))"
   ]
  },
  {
   "cell_type": "code",
   "execution_count": 550,
   "metadata": {},
   "outputs": [
    {
     "data": {
      "text/html": [
       "<div>\n",
       "<style scoped>\n",
       "    .dataframe tbody tr th:only-of-type {\n",
       "        vertical-align: middle;\n",
       "    }\n",
       "\n",
       "    .dataframe tbody tr th {\n",
       "        vertical-align: top;\n",
       "    }\n",
       "\n",
       "    .dataframe thead th {\n",
       "        text-align: right;\n",
       "    }\n",
       "</style>\n",
       "<table border=\"1\" class=\"dataframe\">\n",
       "  <thead>\n",
       "    <tr style=\"text-align: right;\">\n",
       "      <th></th>\n",
       "      <th>index</th>\n",
       "      <th>harm</th>\n",
       "      <th>amp</th>\n",
       "    </tr>\n",
       "  </thead>\n",
       "  <tbody>\n",
       "    <tr>\n",
       "      <th>6</th>\n",
       "      <td>6</td>\n",
       "      <td>10.015291</td>\n",
       "      <td>2.418250e+06</td>\n",
       "    </tr>\n",
       "    <tr>\n",
       "      <th>20</th>\n",
       "      <td>20</td>\n",
       "      <td>31.238532</td>\n",
       "      <td>2.111637e+06</td>\n",
       "    </tr>\n",
       "    <tr>\n",
       "      <th>18</th>\n",
       "      <td>18</td>\n",
       "      <td>24.082569</td>\n",
       "      <td>1.881805e+06</td>\n",
       "    </tr>\n",
       "    <tr>\n",
       "      <th>11</th>\n",
       "      <td>11</td>\n",
       "      <td>14.082569</td>\n",
       "      <td>1.865553e+06</td>\n",
       "    </tr>\n",
       "    <tr>\n",
       "      <th>4</th>\n",
       "      <td>4</td>\n",
       "      <td>7.003058</td>\n",
       "      <td>1.821525e+06</td>\n",
       "    </tr>\n",
       "    <tr>\n",
       "      <th>1</th>\n",
       "      <td>1</td>\n",
       "      <td>3.004587</td>\n",
       "      <td>1.558307e+06</td>\n",
       "    </tr>\n",
       "    <tr>\n",
       "      <th>16</th>\n",
       "      <td>16</td>\n",
       "      <td>22.469419</td>\n",
       "      <td>1.543175e+06</td>\n",
       "    </tr>\n",
       "    <tr>\n",
       "      <th>5</th>\n",
       "      <td>5</td>\n",
       "      <td>9.006116</td>\n",
       "      <td>1.424606e+06</td>\n",
       "    </tr>\n",
       "    <tr>\n",
       "      <th>17</th>\n",
       "      <td>17</td>\n",
       "      <td>23.539755</td>\n",
       "      <td>1.344029e+06</td>\n",
       "    </tr>\n",
       "    <tr>\n",
       "      <th>9</th>\n",
       "      <td>9</td>\n",
       "      <td>13.004587</td>\n",
       "      <td>1.318819e+06</td>\n",
       "    </tr>\n",
       "  </tbody>\n",
       "</table>\n",
       "</div>"
      ],
      "text/plain": [
       "    index       harm           amp\n",
       "6       6  10.015291  2.418250e+06\n",
       "20     20  31.238532  2.111637e+06\n",
       "18     18  24.082569  1.881805e+06\n",
       "11     11  14.082569  1.865553e+06\n",
       "4       4   7.003058  1.821525e+06\n",
       "1       1   3.004587  1.558307e+06\n",
       "16     16  22.469419  1.543175e+06\n",
       "5       5   9.006116  1.424606e+06\n",
       "17     17  23.539755  1.344029e+06\n",
       "9       9  13.004587  1.318819e+06"
      ]
     },
     "execution_count": 550,
     "metadata": {},
     "output_type": "execute_result"
    }
   ],
   "source": [
    "h_footprint.sort_values('amp', ascending=False).nlargest(10, ['amp'])"
   ]
  },
  {
   "cell_type": "code",
   "execution_count": 581,
   "metadata": {},
   "outputs": [
    {
     "name": "stdout",
     "output_type": "stream",
     "text": [
      "Frequency: 880.0\n",
      " Tunner Output:A-5 ~-0%\n"
     ]
    },
    {
     "data": {
      "text/html": [
       "<div>\n",
       "<style scoped>\n",
       "    .dataframe tbody tr th:only-of-type {\n",
       "        vertical-align: middle;\n",
       "    }\n",
       "\n",
       "    .dataframe tbody tr th {\n",
       "        vertical-align: top;\n",
       "    }\n",
       "\n",
       "    .dataframe thead th {\n",
       "        text-align: right;\n",
       "    }\n",
       "</style>\n",
       "<table border=\"1\" class=\"dataframe\">\n",
       "  <thead>\n",
       "    <tr style=\"text-align: right;\">\n",
       "      <th></th>\n",
       "      <th>f_corr</th>\n",
       "      <th>note</th>\n",
       "    </tr>\n",
       "  </thead>\n",
       "  <tbody>\n",
       "    <tr>\n",
       "      <th>10</th>\n",
       "      <td>439.999066</td>\n",
       "      <td>A-4 ~-0%</td>\n",
       "    </tr>\n",
       "    <tr>\n",
       "      <th>0</th>\n",
       "      <td>879.999963</td>\n",
       "      <td>A-5 ~-0%</td>\n",
       "    </tr>\n",
       "    <tr>\n",
       "      <th>8</th>\n",
       "      <td>1320.000425</td>\n",
       "      <td>E-6 ~2%</td>\n",
       "    </tr>\n",
       "    <tr>\n",
       "      <th>1</th>\n",
       "      <td>1760.000454</td>\n",
       "      <td>A-6 ~0%</td>\n",
       "    </tr>\n",
       "    <tr>\n",
       "      <th>7</th>\n",
       "      <td>2200.001594</td>\n",
       "      <td>C#-7 ~-14%</td>\n",
       "    </tr>\n",
       "    <tr>\n",
       "      <th>6</th>\n",
       "      <td>2640.001508</td>\n",
       "      <td>E-7 ~2%</td>\n",
       "    </tr>\n",
       "    <tr>\n",
       "      <th>87</th>\n",
       "      <td>3080.007953</td>\n",
       "      <td>G-7 ~-31%</td>\n",
       "    </tr>\n",
       "    <tr>\n",
       "      <th>9</th>\n",
       "      <td>3520.001511</td>\n",
       "      <td>A-7 ~0%</td>\n",
       "    </tr>\n",
       "    <tr>\n",
       "      <th>85</th>\n",
       "      <td>3960.008527</td>\n",
       "      <td>B-7 ~4%</td>\n",
       "    </tr>\n",
       "    <tr>\n",
       "      <th>86</th>\n",
       "      <td>4400.006466</td>\n",
       "      <td>C#-8 ~-14%</td>\n",
       "    </tr>\n",
       "    <tr>\n",
       "      <th>89</th>\n",
       "      <td>4840.005260</td>\n",
       "      <td>D#-8 ~-49%</td>\n",
       "    </tr>\n",
       "    <tr>\n",
       "      <th>43</th>\n",
       "      <td>5280.002658</td>\n",
       "      <td>E-8 ~2%</td>\n",
       "    </tr>\n",
       "    <tr>\n",
       "      <th>90</th>\n",
       "      <td>5720.005501</td>\n",
       "      <td>F-8 ~41%</td>\n",
       "    </tr>\n",
       "    <tr>\n",
       "      <th>88</th>\n",
       "      <td>6160.004926</td>\n",
       "      <td>G-8 ~-31%</td>\n",
       "    </tr>\n",
       "    <tr>\n",
       "      <th>92</th>\n",
       "      <td>6600.004546</td>\n",
       "      <td>G#-8 ~-12%</td>\n",
       "    </tr>\n",
       "    <tr>\n",
       "      <th>44</th>\n",
       "      <td>7040.002721</td>\n",
       "      <td>Too High</td>\n",
       "    </tr>\n",
       "  </tbody>\n",
       "</table>\n",
       "</div>"
      ],
      "text/plain": [
       "         f_corr        note\n",
       "10   439.999066    A-4 ~-0%\n",
       "0    879.999963    A-5 ~-0%\n",
       "8   1320.000425     E-6 ~2%\n",
       "1   1760.000454     A-6 ~0%\n",
       "7   2200.001594  C#-7 ~-14%\n",
       "6   2640.001508     E-7 ~2%\n",
       "87  3080.007953   G-7 ~-31%\n",
       "9   3520.001511     A-7 ~0%\n",
       "85  3960.008527     B-7 ~4%\n",
       "86  4400.006466  C#-8 ~-14%\n",
       "89  4840.005260  D#-8 ~-49%\n",
       "43  5280.002658     E-8 ~2%\n",
       "90  5720.005501    F-8 ~41%\n",
       "88  6160.004926   G-8 ~-31%\n",
       "92  6600.004546  G#-8 ~-12%\n",
       "44  7040.002721    Too High"
      ]
     },
     "execution_count": 581,
     "metadata": {},
     "output_type": "execute_result"
    },
    {
     "data": {
      "image/png": "[encoded data removed]",
      "text/plain": [
       "<Figure size 432x288 with 2 Axes>"
      ]
     },
     "metadata": {
      "needs_background": "light"
     },
     "output_type": "display_data"
    }
   ],
   "source": [
    "wave2= Create_signal2(np.array([1, 2,3,4,5,6,7,8,9,10,11,12,13,14,15,16])*440, [50,100,50,100,50,60,10,50,10,10,10,20,10,10,10,20])\n",
    "Play(wave2)\n",
    "describe_wave(wave2)"
   ]
  },
  {
   "cell_type": "markdown",
   "metadata": {},
   "source": [
    "## Recording"
   ]
  },
  {
   "cell_type": "code",
   "execution_count": 415,
   "metadata": {
    "scrolled": false
   },
   "outputs": [
    {
     "name": "stdout",
     "output_type": "stream",
     "text": [
      "Listening\n",
      "> .Recording....................................................................................................end\n",
      "Frequency: 1104.5\n"
     ]
    },
    {
     "data": {
      "text/plain": [
       "'C#-6 ~-7%'"
      ]
     },
     "execution_count": 415,
     "metadata": {},
     "output_type": "execute_result"
    },
    {
     "data": {
      "image/png": "[encoded data removed]",
      "text/plain": [
       "<Figure size 432x288 with 2 Axes>"
      ]
     },
     "metadata": {
      "needs_background": "light"
     },
     "output_type": "display_data"
    }
   ],
   "source": [
    "p = pyaudio.PyAudio()                   # Create an interface to PortAudio\n",
    "stream = p.open(format=sample_format,\n",
    "                channels=channels,\n",
    "                rate=fs,\n",
    "                frames_per_buffer=chunk,\n",
    "                input=True)\n",
    "frames = []                             # Initialize array to store frames\n",
    "\n",
    "print(\" \",end=\"\")                       # Cicle of 3 secs to drop clicking noise when the audio starts\n",
    "for j in range (0,runway_time+1):\n",
    "    for i in range(0, int(fs / chunk)):\n",
    "        data = stream.read(chunk)\n",
    "    print(\"\\b{}\".format(runway_time-j),end=\"\")\n",
    "print(\"\\bListening\\n> \", end=\"\")\n",
    "\n",
    "amp =0\n",
    "count=0\n",
    "while amp < start_amp:                  # Listening until the amplitud is high enough to start recording \n",
    "    data = stream.read(chunk)\n",
    "    amp = max(np.frombuffer(data,np.int16))-min(np.frombuffer(data,np.int16))\n",
    "    count+=1\n",
    "    if count%2==0:\n",
    "        print(\"\\b\",end=\"\")\n",
    "    else:\n",
    "        print(\".\", end=\"\")\n",
    "\n",
    "print(\"Recording\", end=\"\")\n",
    "for i in range(0, int(fs / chunk * seconds)):\n",
    "    data = stream.read(chunk)\n",
    "    frames.append(data)\n",
    "    print(\".\",end=\"\")\n",
    "print(\"end\")\n",
    "\n",
    "frames_list = frames.copy()             # This is a copy used to work with row independently\n",
    "frames = b''.join(frames)               # Concatenate all the frames in one long string in bytes\n",
    "  \n",
    "stream.stop_stream()                    # Stop and close the stream \n",
    "stream.close()\n",
    "p.terminate()                           # Terminate the PortAudio interface\n",
    "\n",
    "signal = np.frombuffer(frames, np.int16)              # transform the signal from bytes to integers\n",
    "f_transform = np.abs(np.fft.fft(signal)[0:fmax])      # The magnitude of the fourier transform for the posive freqs \n",
    "\n",
    "fig, ax = plt.subplots(2,1)            # Create the graphics\n",
    "ax[0].plot(signal)                     # Print the signal\n",
    "ax[1].plot(f_transform)                # Print the fourier transform \n",
    "\n",
    "FFT = pd.DataFrame({'f_pwr':f_transform}) \n",
    "FFT['f_idx'] = f_idx\n",
    "FFT.set_index('f_idx',inplace=True)\n",
    "print('Frequency: {}'.format(FFT.idxmax(0)[0]))\n",
    "tunner(FFT.idxmax(0)[0])"
   ]
  },
  {
   "cell_type": "code",
   "execution_count": 422,
   "metadata": {},
   "outputs": [],
   "source": [
    "Play(signal)"
   ]
  },
  {
   "cell_type": "code",
   "execution_count": 448,
   "metadata": {},
   "outputs": [
    {
     "name": "stdout",
     "output_type": "stream",
     "text": [
      "Frequency: 1104.5\n",
      " Tunner Output:C#-6 ~-7%\n"
     ]
    },
    {
     "data": {
      "text/html": [
       "<div>\n",
       "<style scoped>\n",
       "    .dataframe tbody tr th:only-of-type {\n",
       "        vertical-align: middle;\n",
       "    }\n",
       "\n",
       "    .dataframe tbody tr th {\n",
       "        vertical-align: top;\n",
       "    }\n",
       "\n",
       "    .dataframe thead th {\n",
       "        text-align: right;\n",
       "    }\n",
       "</style>\n",
       "<table border=\"1\" class=\"dataframe\">\n",
       "  <thead>\n",
       "    <tr style=\"text-align: right;\">\n",
       "      <th></th>\n",
       "      <th>f_corr</th>\n",
       "      <th>note</th>\n",
       "    </tr>\n",
       "  </thead>\n",
       "  <tbody>\n",
       "    <tr>\n",
       "      <th>103</th>\n",
       "      <td>213.071771</td>\n",
       "      <td>G#-3 ~45%</td>\n",
       "    </tr>\n",
       "    <tr>\n",
       "      <th>117</th>\n",
       "      <td>214.517673</td>\n",
       "      <td>A-3 ~-44%</td>\n",
       "    </tr>\n",
       "    <tr>\n",
       "      <th>16</th>\n",
       "      <td>221.062764</td>\n",
       "      <td>A-3 ~8%</td>\n",
       "    </tr>\n",
       "    <tr>\n",
       "      <th>41</th>\n",
       "      <td>330.611955</td>\n",
       "      <td>E-4 ~5%</td>\n",
       "    </tr>\n",
       "    <tr>\n",
       "      <th>34</th>\n",
       "      <td>440.911271</td>\n",
       "      <td>A-4 ~4%</td>\n",
       "    </tr>\n",
       "    <tr>\n",
       "      <th>101</th>\n",
       "      <td>550.866878</td>\n",
       "      <td>C#-5 ~-11%</td>\n",
       "    </tr>\n",
       "    <tr>\n",
       "      <th>27</th>\n",
       "      <td>661.029768</td>\n",
       "      <td>E-5 ~5%</td>\n",
       "    </tr>\n",
       "    <tr>\n",
       "      <th>128</th>\n",
       "      <td>770.794407</td>\n",
       "      <td>G-5 ~-29%</td>\n",
       "    </tr>\n",
       "    <tr>\n",
       "      <th>94</th>\n",
       "      <td>990.500196</td>\n",
       "      <td>B-5 ~5%</td>\n",
       "    </tr>\n",
       "    <tr>\n",
       "      <th>52</th>\n",
       "      <td>991.642459</td>\n",
       "      <td>B-5 ~7%</td>\n",
       "    </tr>\n",
       "    <tr>\n",
       "      <th>8</th>\n",
       "      <td>992.597129</td>\n",
       "      <td>B-5 ~8%</td>\n",
       "    </tr>\n",
       "    <tr>\n",
       "      <th>86</th>\n",
       "      <td>1102.431770</td>\n",
       "      <td>C#-6 ~-10%</td>\n",
       "    </tr>\n",
       "    <tr>\n",
       "      <th>0</th>\n",
       "      <td>1104.479731</td>\n",
       "      <td>C#-6 ~-7%</td>\n",
       "    </tr>\n",
       "    <tr>\n",
       "      <th>65</th>\n",
       "      <td>1107.901906</td>\n",
       "      <td>C#-6 ~-1%</td>\n",
       "    </tr>\n",
       "    <tr>\n",
       "      <th>105</th>\n",
       "      <td>1110.832049</td>\n",
       "      <td>C#-6 ~3%</td>\n",
       "    </tr>\n",
       "    <tr>\n",
       "      <th>127</th>\n",
       "      <td>1112.068668</td>\n",
       "      <td>C#-6 ~5%</td>\n",
       "    </tr>\n",
       "    <tr>\n",
       "      <th>17</th>\n",
       "      <td>1212.037435</td>\n",
       "      <td>D#-6 ~-46%</td>\n",
       "    </tr>\n",
       "    <tr>\n",
       "      <th>18</th>\n",
       "      <td>1216.754667</td>\n",
       "      <td>D#-6 ~-39%</td>\n",
       "    </tr>\n",
       "    <tr>\n",
       "      <th>58</th>\n",
       "      <td>1218.803053</td>\n",
       "      <td>D#-6 ~-36%</td>\n",
       "    </tr>\n",
       "    <tr>\n",
       "      <th>104</th>\n",
       "      <td>1220.294916</td>\n",
       "      <td>D#-6 ~-34%</td>\n",
       "    </tr>\n",
       "    <tr>\n",
       "      <th>47</th>\n",
       "      <td>1327.469762</td>\n",
       "      <td>E-6 ~12%</td>\n",
       "    </tr>\n",
       "    <tr>\n",
       "      <th>46</th>\n",
       "      <td>1328.495846</td>\n",
       "      <td>E-6 ~13%</td>\n",
       "    </tr>\n",
       "    <tr>\n",
       "      <th>69</th>\n",
       "      <td>1431.091017</td>\n",
       "      <td>F-6 ~42%</td>\n",
       "    </tr>\n",
       "    <tr>\n",
       "      <th>70</th>\n",
       "      <td>1432.547524</td>\n",
       "      <td>F-6 ~44%</td>\n",
       "    </tr>\n",
       "    <tr>\n",
       "      <th>21</th>\n",
       "      <td>1440.623548</td>\n",
       "      <td>F#-6 ~-47%</td>\n",
       "    </tr>\n",
       "    <tr>\n",
       "      <th>1</th>\n",
       "      <td>1442.169308</td>\n",
       "      <td>F#-6 ~-45%</td>\n",
       "    </tr>\n",
       "    <tr>\n",
       "      <th>126</th>\n",
       "      <td>1446.444656</td>\n",
       "      <td>F#-6 ~-40%</td>\n",
       "    </tr>\n",
       "    <tr>\n",
       "      <th>9</th>\n",
       "      <td>1553.993463</td>\n",
       "      <td>G-6 ~-16%</td>\n",
       "    </tr>\n",
       "    <tr>\n",
       "      <th>5</th>\n",
       "      <td>1555.811871</td>\n",
       "      <td>G-6 ~-13%</td>\n",
       "    </tr>\n",
       "    <tr>\n",
       "      <th>107</th>\n",
       "      <td>1562.518459</td>\n",
       "      <td>G-6 ~-6%</td>\n",
       "    </tr>\n",
       "    <tr>\n",
       "      <th>32</th>\n",
       "      <td>1669.098151</td>\n",
       "      <td>G#-6 ~8%</td>\n",
       "    </tr>\n",
       "    <tr>\n",
       "      <th>10</th>\n",
       "      <td>1670.059339</td>\n",
       "      <td>G#-6 ~9%</td>\n",
       "    </tr>\n",
       "    <tr>\n",
       "      <th>43</th>\n",
       "      <td>1898.126518</td>\n",
       "      <td>A#-6 ~31%</td>\n",
       "    </tr>\n",
       "    <tr>\n",
       "      <th>132</th>\n",
       "      <td>1899.364135</td>\n",
       "      <td>A#-6 ~32%</td>\n",
       "    </tr>\n",
       "    <tr>\n",
       "      <th>75</th>\n",
       "      <td>1901.057246</td>\n",
       "      <td>A#-6 ~33%</td>\n",
       "    </tr>\n",
       "    <tr>\n",
       "      <th>33</th>\n",
       "      <td>2015.981239</td>\n",
       "      <td>B-6 ~35%</td>\n",
       "    </tr>\n",
       "    <tr>\n",
       "      <th>81</th>\n",
       "      <td>2017.574859</td>\n",
       "      <td>B-6 ~36%</td>\n",
       "    </tr>\n",
       "    <tr>\n",
       "      <th>83</th>\n",
       "      <td>2131.993039</td>\n",
       "      <td>C-7 ~32%</td>\n",
       "    </tr>\n",
       "    <tr>\n",
       "      <th>135</th>\n",
       "      <td>2133.980594</td>\n",
       "      <td>C-7 ~34%</td>\n",
       "    </tr>\n",
       "    <tr>\n",
       "      <th>51</th>\n",
       "      <td>2366.523175</td>\n",
       "      <td>D-7 ~13%</td>\n",
       "    </tr>\n",
       "    <tr>\n",
       "      <th>68</th>\n",
       "      <td>2482.607812</td>\n",
       "      <td>D#-7 ~-4%</td>\n",
       "    </tr>\n",
       "    <tr>\n",
       "      <th>100</th>\n",
       "      <td>2601.520643</td>\n",
       "      <td>E-7 ~-23%</td>\n",
       "    </tr>\n",
       "    <tr>\n",
       "      <th>59</th>\n",
       "      <td>2604.007866</td>\n",
       "      <td>E-7 ~-22%</td>\n",
       "    </tr>\n",
       "    <tr>\n",
       "      <th>124</th>\n",
       "      <td>2658.475754</td>\n",
       "      <td>E-7 ~14%</td>\n",
       "    </tr>\n",
       "    <tr>\n",
       "      <th>148</th>\n",
       "      <td>2659.537253</td>\n",
       "      <td>E-7 ~15%</td>\n",
       "    </tr>\n",
       "  </tbody>\n",
       "</table>\n",
       "</div>"
      ],
      "text/plain": [
       "          f_corr        note\n",
       "103   213.071771   G#-3 ~45%\n",
       "117   214.517673   A-3 ~-44%\n",
       "16    221.062764     A-3 ~8%\n",
       "41    330.611955     E-4 ~5%\n",
       "34    440.911271     A-4 ~4%\n",
       "101   550.866878  C#-5 ~-11%\n",
       "27    661.029768     E-5 ~5%\n",
       "128   770.794407   G-5 ~-29%\n",
       "94    990.500196     B-5 ~5%\n",
       "52    991.642459     B-5 ~7%\n",
       "8     992.597129     B-5 ~8%\n",
       "86   1102.431770  C#-6 ~-10%\n",
       "0    1104.479731   C#-6 ~-7%\n",
       "65   1107.901906   C#-6 ~-1%\n",
       "105  1110.832049    C#-6 ~3%\n",
       "127  1112.068668    C#-6 ~5%\n",
       "17   1212.037435  D#-6 ~-46%\n",
       "18   1216.754667  D#-6 ~-39%\n",
       "58   1218.803053  D#-6 ~-36%\n",
       "104  1220.294916  D#-6 ~-34%\n",
       "47   1327.469762    E-6 ~12%\n",
       "46   1328.495846    E-6 ~13%\n",
       "69   1431.091017    F-6 ~42%\n",
       "70   1432.547524    F-6 ~44%\n",
       "21   1440.623548  F#-6 ~-47%\n",
       "1    1442.169308  F#-6 ~-45%\n",
       "126  1446.444656  F#-6 ~-40%\n",
       "9    1553.993463   G-6 ~-16%\n",
       "5    1555.811871   G-6 ~-13%\n",
       "107  1562.518459    G-6 ~-6%\n",
       "32   1669.098151    G#-6 ~8%\n",
       "10   1670.059339    G#-6 ~9%\n",
       "43   1898.126518   A#-6 ~31%\n",
       "132  1899.364135   A#-6 ~32%\n",
       "75   1901.057246   A#-6 ~33%\n",
       "33   2015.981239    B-6 ~35%\n",
       "81   2017.574859    B-6 ~36%\n",
       "83   2131.993039    C-7 ~32%\n",
       "135  2133.980594    C-7 ~34%\n",
       "51   2366.523175    D-7 ~13%\n",
       "68   2482.607812   D#-7 ~-4%\n",
       "100  2601.520643   E-7 ~-23%\n",
       "59   2604.007866   E-7 ~-22%\n",
       "124  2658.475754    E-7 ~14%\n",
       "148  2659.537253    E-7 ~15%"
      ]
     },
     "execution_count": 448,
     "metadata": {},
     "output_type": "execute_result"
    },
    {
     "data": {
      "image/png": "[encoded data removed]",
      "text/plain": [
       "<Figure size 432x288 with 2 Axes>"
      ]
     },
     "metadata": {
      "needs_background": "light"
     },
     "output_type": "display_data"
    }
   ],
   "source": [
    "describe_wave(signal)"
   ]
  },
  {
   "cell_type": "markdown",
   "metadata": {},
   "source": [
    "## Finding Harmonics from the fourier transform"
   ]
  },
  {
   "cell_type": "code",
   "execution_count": 407,
   "metadata": {},
   "outputs": [
    {
     "data": {
      "text/html": [
       "<div>\n",
       "<style scoped>\n",
       "    .dataframe tbody tr th:only-of-type {\n",
       "        vertical-align: middle;\n",
       "    }\n",
       "\n",
       "    .dataframe tbody tr th {\n",
       "        vertical-align: top;\n",
       "    }\n",
       "\n",
       "    .dataframe thead th {\n",
       "        text-align: right;\n",
       "    }\n",
       "</style>\n",
       "<table border=\"1\" class=\"dataframe\">\n",
       "  <thead>\n",
       "    <tr style=\"text-align: right;\">\n",
       "      <th></th>\n",
       "      <th>f_pwr</th>\n",
       "      <th>f_pwr_2</th>\n",
       "      <th>f_pwr_3</th>\n",
       "    </tr>\n",
       "    <tr>\n",
       "      <th>f_idx</th>\n",
       "      <th></th>\n",
       "      <th></th>\n",
       "      <th></th>\n",
       "    </tr>\n",
       "  </thead>\n",
       "  <tbody>\n",
       "    <tr>\n",
       "      <th>1442.0</th>\n",
       "      <td>3.095368e+06</td>\n",
       "      <td>8.904460e+05</td>\n",
       "      <td>2.804045e+06</td>\n",
       "    </tr>\n",
       "    <tr>\n",
       "      <th>992.5</th>\n",
       "      <td>3.083490e+06</td>\n",
       "      <td>4.802877e+05</td>\n",
       "      <td>2.190066e+06</td>\n",
       "    </tr>\n",
       "    <tr>\n",
       "      <th>1442.5</th>\n",
       "      <td>2.804045e+06</td>\n",
       "      <td>3.095368e+06</td>\n",
       "      <td>1.147019e+06</td>\n",
       "    </tr>\n",
       "    <tr>\n",
       "      <th>1556.0</th>\n",
       "      <td>2.435905e+06</td>\n",
       "      <td>2.124995e+06</td>\n",
       "      <td>1.256873e+06</td>\n",
       "    </tr>\n",
       "    <tr>\n",
       "      <th>1104.5</th>\n",
       "      <td>2.337408e+06</td>\n",
       "      <td>1.476604e+06</td>\n",
       "      <td>1.544903e+06</td>\n",
       "    </tr>\n",
       "    <tr>\n",
       "      <th>...</th>\n",
       "      <td>...</td>\n",
       "      <td>...</td>\n",
       "      <td>...</td>\n",
       "    </tr>\n",
       "    <tr>\n",
       "      <th>1000.0</th>\n",
       "      <td>3.636385e+05</td>\n",
       "      <td>3.389820e+05</td>\n",
       "      <td>3.314357e+05</td>\n",
       "    </tr>\n",
       "    <tr>\n",
       "      <th>218.0</th>\n",
       "      <td>3.629471e+05</td>\n",
       "      <td>3.435143e+05</td>\n",
       "      <td>3.959217e+05</td>\n",
       "    </tr>\n",
       "    <tr>\n",
       "      <th>1108.5</th>\n",
       "      <td>3.629197e+05</td>\n",
       "      <td>4.085310e+05</td>\n",
       "      <td>3.213258e+05</td>\n",
       "    </tr>\n",
       "    <tr>\n",
       "      <th>1301.5</th>\n",
       "      <td>3.621964e+05</td>\n",
       "      <td>3.777467e+05</td>\n",
       "      <td>3.173654e+05</td>\n",
       "    </tr>\n",
       "    <tr>\n",
       "      <th>1559.5</th>\n",
       "      <td>3.617806e+05</td>\n",
       "      <td>4.331597e+05</td>\n",
       "      <td>3.236710e+05</td>\n",
       "    </tr>\n",
       "  </tbody>\n",
       "</table>\n",
       "<p>150 rows × 3 columns</p>\n",
       "</div>"
      ],
      "text/plain": [
       "               f_pwr       f_pwr_2       f_pwr_3\n",
       "f_idx                                           \n",
       "1442.0  3.095368e+06  8.904460e+05  2.804045e+06\n",
       "992.5   3.083490e+06  4.802877e+05  2.190066e+06\n",
       "1442.5  2.804045e+06  3.095368e+06  1.147019e+06\n",
       "1556.0  2.435905e+06  2.124995e+06  1.256873e+06\n",
       "1104.5  2.337408e+06  1.476604e+06  1.544903e+06\n",
       "...              ...           ...           ...\n",
       "1000.0  3.636385e+05  3.389820e+05  3.314357e+05\n",
       "218.0   3.629471e+05  3.435143e+05  3.959217e+05\n",
       "1108.5  3.629197e+05  4.085310e+05  3.213258e+05\n",
       "1301.5  3.621964e+05  3.777467e+05  3.173654e+05\n",
       "1559.5  3.617806e+05  4.331597e+05  3.236710e+05\n",
       "\n",
       "[150 rows x 3 columns]"
      ]
     },
     "execution_count": 407,
     "metadata": {},
     "output_type": "execute_result"
    }
   ],
   "source": [
    "FFT.nlargest(150,'f_pwr')"
   ]
  },
  {
   "cell_type": "code",
   "execution_count": 408,
   "metadata": {
    "scrolled": true
   },
   "outputs": [
    {
     "data": {
      "text/html": [
       "<div>\n",
       "<style scoped>\n",
       "    .dataframe tbody tr th:only-of-type {\n",
       "        vertical-align: middle;\n",
       "    }\n",
       "\n",
       "    .dataframe tbody tr th {\n",
       "        vertical-align: top;\n",
       "    }\n",
       "\n",
       "    .dataframe thead th {\n",
       "        text-align: right;\n",
       "    }\n",
       "</style>\n",
       "<table border=\"1\" class=\"dataframe\">\n",
       "  <thead>\n",
       "    <tr style=\"text-align: right;\">\n",
       "      <th></th>\n",
       "      <th>f_idx</th>\n",
       "      <th>f_pwr</th>\n",
       "      <th>f_pwr_2</th>\n",
       "      <th>f_pwr_3</th>\n",
       "      <th>max_freq</th>\n",
       "      <th>note</th>\n",
       "    </tr>\n",
       "  </thead>\n",
       "  <tbody>\n",
       "    <tr>\n",
       "      <th>0</th>\n",
       "      <td>1442.0</td>\n",
       "      <td>3.095368e+06</td>\n",
       "      <td>8.904460e+05</td>\n",
       "      <td>2.804045e+06</td>\n",
       "      <td>1</td>\n",
       "      <td>F#-6 ~-45%</td>\n",
       "    </tr>\n",
       "    <tr>\n",
       "      <th>1</th>\n",
       "      <td>992.5</td>\n",
       "      <td>3.083490e+06</td>\n",
       "      <td>4.802877e+05</td>\n",
       "      <td>2.190066e+06</td>\n",
       "      <td>1</td>\n",
       "      <td>B-5 ~8%</td>\n",
       "    </tr>\n",
       "    <tr>\n",
       "      <th>3</th>\n",
       "      <td>1556.0</td>\n",
       "      <td>2.435905e+06</td>\n",
       "      <td>2.124995e+06</td>\n",
       "      <td>1.256873e+06</td>\n",
       "      <td>1</td>\n",
       "      <td>G-6 ~-13%</td>\n",
       "    </tr>\n",
       "    <tr>\n",
       "      <th>4</th>\n",
       "      <td>1104.5</td>\n",
       "      <td>2.337408e+06</td>\n",
       "      <td>1.476604e+06</td>\n",
       "      <td>1.544903e+06</td>\n",
       "      <td>1</td>\n",
       "      <td>C#-6 ~-7%</td>\n",
       "    </tr>\n",
       "    <tr>\n",
       "      <th>12</th>\n",
       "      <td>2016.0</td>\n",
       "      <td>1.243786e+06</td>\n",
       "      <td>3.568770e+05</td>\n",
       "      <td>6.727855e+05</td>\n",
       "      <td>1</td>\n",
       "      <td>B-6 ~35%</td>\n",
       "    </tr>\n",
       "    <tr>\n",
       "      <th>14</th>\n",
       "      <td>991.5</td>\n",
       "      <td>1.145891e+06</td>\n",
       "      <td>5.923587e+05</td>\n",
       "      <td>4.802877e+05</td>\n",
       "      <td>1</td>\n",
       "      <td>B-5 ~7%</td>\n",
       "    </tr>\n",
       "    <tr>\n",
       "      <th>15</th>\n",
       "      <td>1670.0</td>\n",
       "      <td>1.100808e+06</td>\n",
       "      <td>6.634316e+05</td>\n",
       "      <td>8.973776e+05</td>\n",
       "      <td>1</td>\n",
       "      <td>G#-6 ~9%</td>\n",
       "    </tr>\n",
       "    <tr>\n",
       "      <th>16</th>\n",
       "      <td>1216.5</td>\n",
       "      <td>1.098202e+06</td>\n",
       "      <td>7.261430e+05</td>\n",
       "      <td>7.720015e+05</td>\n",
       "      <td>1</td>\n",
       "      <td>D#-6 ~-39%</td>\n",
       "    </tr>\n",
       "    <tr>\n",
       "      <th>17</th>\n",
       "      <td>221.0</td>\n",
       "      <td>1.097470e+06</td>\n",
       "      <td>9.906728e+05</td>\n",
       "      <td>9.654343e+05</td>\n",
       "      <td>1</td>\n",
       "      <td>A-3 ~8%</td>\n",
       "    </tr>\n",
       "    <tr>\n",
       "      <th>18</th>\n",
       "      <td>1554.0</td>\n",
       "      <td>1.066628e+06</td>\n",
       "      <td>4.341659e+05</td>\n",
       "      <td>6.190940e+05</td>\n",
       "      <td>1</td>\n",
       "      <td>G-6 ~-16%</td>\n",
       "    </tr>\n",
       "    <tr>\n",
       "      <th>19</th>\n",
       "      <td>1441.0</td>\n",
       "      <td>1.015988e+06</td>\n",
       "      <td>6.854054e+05</td>\n",
       "      <td>8.904460e+05</td>\n",
       "      <td>1</td>\n",
       "      <td>F#-6 ~-46%</td>\n",
       "    </tr>\n",
       "    <tr>\n",
       "      <th>25</th>\n",
       "      <td>1669.0</td>\n",
       "      <td>8.662754e+05</td>\n",
       "      <td>1.140060e+05</td>\n",
       "      <td>6.634316e+05</td>\n",
       "      <td>1</td>\n",
       "      <td>G#-6 ~8%</td>\n",
       "    </tr>\n",
       "    <tr>\n",
       "      <th>27</th>\n",
       "      <td>1215.5</td>\n",
       "      <td>8.140136e+05</td>\n",
       "      <td>2.813322e+05</td>\n",
       "      <td>7.261430e+05</td>\n",
       "      <td>1</td>\n",
       "      <td>D#-6 ~-41%</td>\n",
       "    </tr>\n",
       "    <tr>\n",
       "      <th>28</th>\n",
       "      <td>1212.0</td>\n",
       "      <td>8.049564e+05</td>\n",
       "      <td>4.850725e+05</td>\n",
       "      <td>6.544098e+05</td>\n",
       "      <td>1</td>\n",
       "      <td>D#-6 ~-46%</td>\n",
       "    </tr>\n",
       "    <tr>\n",
       "      <th>30</th>\n",
       "      <td>1327.5</td>\n",
       "      <td>7.863809e+05</td>\n",
       "      <td>2.466293e+05</td>\n",
       "      <td>1.906359e+05</td>\n",
       "      <td>1</td>\n",
       "      <td>E-6 ~12%</td>\n",
       "    </tr>\n",
       "    <tr>\n",
       "      <th>34</th>\n",
       "      <td>2014.0</td>\n",
       "      <td>7.441786e+05</td>\n",
       "      <td>2.652273e+05</td>\n",
       "      <td>2.934848e+05</td>\n",
       "      <td>1</td>\n",
       "      <td>B-6 ~33%</td>\n",
       "    </tr>\n",
       "    <tr>\n",
       "      <th>40</th>\n",
       "      <td>1213.0</td>\n",
       "      <td>6.900202e+05</td>\n",
       "      <td>6.544098e+05</td>\n",
       "      <td>5.363644e+05</td>\n",
       "      <td>1</td>\n",
       "      <td>D#-6 ~-44%</td>\n",
       "    </tr>\n",
       "    <tr>\n",
       "      <th>42</th>\n",
       "      <td>1328.5</td>\n",
       "      <td>6.836528e+05</td>\n",
       "      <td>1.906359e+05</td>\n",
       "      <td>1.588787e+05</td>\n",
       "      <td>1</td>\n",
       "      <td>E-6 ~13%</td>\n",
       "    </tr>\n",
       "    <tr>\n",
       "      <th>43</th>\n",
       "      <td>990.5</td>\n",
       "      <td>6.788220e+05</td>\n",
       "      <td>5.864176e+05</td>\n",
       "      <td>5.923587e+05</td>\n",
       "      <td>1</td>\n",
       "      <td>B-5 ~5%</td>\n",
       "    </tr>\n",
       "    <tr>\n",
       "      <th>45</th>\n",
       "      <td>1432.5</td>\n",
       "      <td>6.653617e+05</td>\n",
       "      <td>3.724423e+05</td>\n",
       "      <td>5.495870e+05</td>\n",
       "      <td>1</td>\n",
       "      <td>F-6 ~44%</td>\n",
       "    </tr>\n",
       "    <tr>\n",
       "      <th>51</th>\n",
       "      <td>441.0</td>\n",
       "      <td>6.298852e+05</td>\n",
       "      <td>5.141272e+05</td>\n",
       "      <td>4.294102e+05</td>\n",
       "      <td>1</td>\n",
       "      <td>A-4 ~4%</td>\n",
       "    </tr>\n",
       "    <tr>\n",
       "      <th>53</th>\n",
       "      <td>661.0</td>\n",
       "      <td>6.250677e+05</td>\n",
       "      <td>2.763845e+05</td>\n",
       "      <td>2.386919e+05</td>\n",
       "      <td>1</td>\n",
       "      <td>E-5 ~5%</td>\n",
       "    </tr>\n",
       "    <tr>\n",
       "      <th>62</th>\n",
       "      <td>1672.0</td>\n",
       "      <td>5.348618e+05</td>\n",
       "      <td>4.905908e+05</td>\n",
       "      <td>4.398182e+05</td>\n",
       "      <td>1</td>\n",
       "      <td>G#-6 ~11%</td>\n",
       "    </tr>\n",
       "    <tr>\n",
       "      <th>64</th>\n",
       "      <td>330.5</td>\n",
       "      <td>5.323729e+05</td>\n",
       "      <td>2.170049e+05</td>\n",
       "      <td>4.678514e+05</td>\n",
       "      <td>1</td>\n",
       "      <td>E-4 ~5%</td>\n",
       "    </tr>\n",
       "    <tr>\n",
       "      <th>67</th>\n",
       "      <td>2018.0</td>\n",
       "      <td>5.172987e+05</td>\n",
       "      <td>4.099117e+05</td>\n",
       "      <td>4.639881e+05</td>\n",
       "      <td>1</td>\n",
       "      <td>B-6 ~37%</td>\n",
       "    </tr>\n",
       "  </tbody>\n",
       "</table>\n",
       "</div>"
      ],
      "text/plain": [
       "     f_idx         f_pwr       f_pwr_2       f_pwr_3  max_freq        note\n",
       "0   1442.0  3.095368e+06  8.904460e+05  2.804045e+06         1  F#-6 ~-45%\n",
       "1    992.5  3.083490e+06  4.802877e+05  2.190066e+06         1     B-5 ~8%\n",
       "3   1556.0  2.435905e+06  2.124995e+06  1.256873e+06         1   G-6 ~-13%\n",
       "4   1104.5  2.337408e+06  1.476604e+06  1.544903e+06         1   C#-6 ~-7%\n",
       "12  2016.0  1.243786e+06  3.568770e+05  6.727855e+05         1    B-6 ~35%\n",
       "14   991.5  1.145891e+06  5.923587e+05  4.802877e+05         1     B-5 ~7%\n",
       "15  1670.0  1.100808e+06  6.634316e+05  8.973776e+05         1    G#-6 ~9%\n",
       "16  1216.5  1.098202e+06  7.261430e+05  7.720015e+05         1  D#-6 ~-39%\n",
       "17   221.0  1.097470e+06  9.906728e+05  9.654343e+05         1     A-3 ~8%\n",
       "18  1554.0  1.066628e+06  4.341659e+05  6.190940e+05         1   G-6 ~-16%\n",
       "19  1441.0  1.015988e+06  6.854054e+05  8.904460e+05         1  F#-6 ~-46%\n",
       "25  1669.0  8.662754e+05  1.140060e+05  6.634316e+05         1    G#-6 ~8%\n",
       "27  1215.5  8.140136e+05  2.813322e+05  7.261430e+05         1  D#-6 ~-41%\n",
       "28  1212.0  8.049564e+05  4.850725e+05  6.544098e+05         1  D#-6 ~-46%\n",
       "30  1327.5  7.863809e+05  2.466293e+05  1.906359e+05         1    E-6 ~12%\n",
       "34  2014.0  7.441786e+05  2.652273e+05  2.934848e+05         1    B-6 ~33%\n",
       "40  1213.0  6.900202e+05  6.544098e+05  5.363644e+05         1  D#-6 ~-44%\n",
       "42  1328.5  6.836528e+05  1.906359e+05  1.588787e+05         1    E-6 ~13%\n",
       "43   990.5  6.788220e+05  5.864176e+05  5.923587e+05         1     B-5 ~5%\n",
       "45  1432.5  6.653617e+05  3.724423e+05  5.495870e+05         1    F-6 ~44%\n",
       "51   441.0  6.298852e+05  5.141272e+05  4.294102e+05         1     A-4 ~4%\n",
       "53   661.0  6.250677e+05  2.763845e+05  2.386919e+05         1     E-5 ~5%\n",
       "62  1672.0  5.348618e+05  4.905908e+05  4.398182e+05         1   G#-6 ~11%\n",
       "64   330.5  5.323729e+05  2.170049e+05  4.678514e+05         1     E-4 ~5%\n",
       "67  2018.0  5.172987e+05  4.099117e+05  4.639881e+05         1    B-6 ~37%"
      ]
     },
     "execution_count": 408,
     "metadata": {},
     "output_type": "execute_result"
    }
   ],
   "source": [
    "freq_pd = FFT.nlargest(150,'f_pwr').reset_index()\n",
    "max_freq = []\n",
    "note = []\n",
    "for freq in freq_pd['f_idx']:\n",
    "    if (FFT.loc[freq][0]>FFT.loc[freq-1/seconds][0]) and (FFT.loc[freq][0]>FFT.loc[freq+1/seconds][0]) :\n",
    "        max_freq.append(1)\n",
    "        note.append(tunner(freq))\n",
    "    else:\n",
    "        max_freq.append(0)\n",
    "        note.append(0)\n",
    "freq_pd['max_freq']=max_freq\n",
    "freq_pd['note']=note\n",
    "harm_pd=freq_pd[freq_pd['max_freq']==1].sort_values(['f_idx']).nlargest(25,'f_pwr')\n",
    "harm_pd"
   ]
  },
  {
   "cell_type": "code",
   "execution_count": 409,
   "metadata": {
    "scrolled": true
   },
   "outputs": [
    {
     "data": {
      "text/html": [
       "<div>\n",
       "<style scoped>\n",
       "    .dataframe tbody tr th:only-of-type {\n",
       "        vertical-align: middle;\n",
       "    }\n",
       "\n",
       "    .dataframe tbody tr th {\n",
       "        vertical-align: top;\n",
       "    }\n",
       "\n",
       "    .dataframe thead th {\n",
       "        text-align: right;\n",
       "    }\n",
       "</style>\n",
       "<table border=\"1\" class=\"dataframe\">\n",
       "  <thead>\n",
       "    <tr style=\"text-align: right;\">\n",
       "      <th></th>\n",
       "      <th>f_idx</th>\n",
       "      <th>f_pwr</th>\n",
       "      <th>f_pwr_2</th>\n",
       "      <th>f_pwr_3</th>\n",
       "      <th>max_freq</th>\n",
       "      <th>note</th>\n",
       "    </tr>\n",
       "  </thead>\n",
       "  <tbody>\n",
       "    <tr>\n",
       "      <th>17</th>\n",
       "      <td>221.0</td>\n",
       "      <td>1.097470e+06</td>\n",
       "      <td>9.906728e+05</td>\n",
       "      <td>9.654343e+05</td>\n",
       "      <td>1</td>\n",
       "      <td>A-3 ~8%</td>\n",
       "    </tr>\n",
       "    <tr>\n",
       "      <th>64</th>\n",
       "      <td>330.5</td>\n",
       "      <td>5.323729e+05</td>\n",
       "      <td>2.170049e+05</td>\n",
       "      <td>4.678514e+05</td>\n",
       "      <td>1</td>\n",
       "      <td>E-4 ~5%</td>\n",
       "    </tr>\n",
       "    <tr>\n",
       "      <th>51</th>\n",
       "      <td>441.0</td>\n",
       "      <td>6.298852e+05</td>\n",
       "      <td>5.141272e+05</td>\n",
       "      <td>4.294102e+05</td>\n",
       "      <td>1</td>\n",
       "      <td>A-4 ~4%</td>\n",
       "    </tr>\n",
       "    <tr>\n",
       "      <th>53</th>\n",
       "      <td>661.0</td>\n",
       "      <td>6.250677e+05</td>\n",
       "      <td>2.763845e+05</td>\n",
       "      <td>2.386919e+05</td>\n",
       "      <td>1</td>\n",
       "      <td>E-5 ~5%</td>\n",
       "    </tr>\n",
       "    <tr>\n",
       "      <th>43</th>\n",
       "      <td>990.5</td>\n",
       "      <td>6.788220e+05</td>\n",
       "      <td>5.864176e+05</td>\n",
       "      <td>5.923587e+05</td>\n",
       "      <td>1</td>\n",
       "      <td>B-5 ~5%</td>\n",
       "    </tr>\n",
       "    <tr>\n",
       "      <th>14</th>\n",
       "      <td>991.5</td>\n",
       "      <td>1.145891e+06</td>\n",
       "      <td>5.923587e+05</td>\n",
       "      <td>4.802877e+05</td>\n",
       "      <td>1</td>\n",
       "      <td>B-5 ~7%</td>\n",
       "    </tr>\n",
       "    <tr>\n",
       "      <th>1</th>\n",
       "      <td>992.5</td>\n",
       "      <td>3.083490e+06</td>\n",
       "      <td>4.802877e+05</td>\n",
       "      <td>2.190066e+06</td>\n",
       "      <td>1</td>\n",
       "      <td>B-5 ~8%</td>\n",
       "    </tr>\n",
       "    <tr>\n",
       "      <th>4</th>\n",
       "      <td>1104.5</td>\n",
       "      <td>2.337408e+06</td>\n",
       "      <td>1.476604e+06</td>\n",
       "      <td>1.544903e+06</td>\n",
       "      <td>1</td>\n",
       "      <td>C#-6 ~-7%</td>\n",
       "    </tr>\n",
       "    <tr>\n",
       "      <th>28</th>\n",
       "      <td>1212.0</td>\n",
       "      <td>8.049564e+05</td>\n",
       "      <td>4.850725e+05</td>\n",
       "      <td>6.544098e+05</td>\n",
       "      <td>1</td>\n",
       "      <td>D#-6 ~-46%</td>\n",
       "    </tr>\n",
       "    <tr>\n",
       "      <th>40</th>\n",
       "      <td>1213.0</td>\n",
       "      <td>6.900202e+05</td>\n",
       "      <td>6.544098e+05</td>\n",
       "      <td>5.363644e+05</td>\n",
       "      <td>1</td>\n",
       "      <td>D#-6 ~-44%</td>\n",
       "    </tr>\n",
       "  </tbody>\n",
       "</table>\n",
       "</div>"
      ],
      "text/plain": [
       "     f_idx         f_pwr       f_pwr_2       f_pwr_3  max_freq        note\n",
       "17   221.0  1.097470e+06  9.906728e+05  9.654343e+05         1     A-3 ~8%\n",
       "64   330.5  5.323729e+05  2.170049e+05  4.678514e+05         1     E-4 ~5%\n",
       "51   441.0  6.298852e+05  5.141272e+05  4.294102e+05         1     A-4 ~4%\n",
       "53   661.0  6.250677e+05  2.763845e+05  2.386919e+05         1     E-5 ~5%\n",
       "43   990.5  6.788220e+05  5.864176e+05  5.923587e+05         1     B-5 ~5%\n",
       "14   991.5  1.145891e+06  5.923587e+05  4.802877e+05         1     B-5 ~7%\n",
       "1    992.5  3.083490e+06  4.802877e+05  2.190066e+06         1     B-5 ~8%\n",
       "4   1104.5  2.337408e+06  1.476604e+06  1.544903e+06         1   C#-6 ~-7%\n",
       "28  1212.0  8.049564e+05  4.850725e+05  6.544098e+05         1  D#-6 ~-46%\n",
       "40  1213.0  6.900202e+05  6.544098e+05  5.363644e+05         1  D#-6 ~-44%"
      ]
     },
     "execution_count": 409,
     "metadata": {},
     "output_type": "execute_result"
    }
   ],
   "source": [
    "harm_pd.nsmallest(10,'f_idx')"
   ]
  },
  {
   "cell_type": "code",
   "execution_count": 410,
   "metadata": {
    "scrolled": false
   },
   "outputs": [
    {
     "data": {
      "text/plain": [
       "<AxesSubplot:xlabel='f_idx'>"
      ]
     },
     "execution_count": 410,
     "metadata": {},
     "output_type": "execute_result"
    },
    {
     "data": {
      "image/png": "[encoded data removed]",
      "text/plain": [
       "<Figure size 432x288 with 1 Axes>"
      ]
     },
     "metadata": {
      "needs_background": "light"
     },
     "output_type": "display_data"
    }
   ],
   "source": [
    "FFT[0:2000].plot()"
   ]
  },
  {
   "cell_type": "code",
   "execution_count": 411,
   "metadata": {},
   "outputs": [
    {
     "data": {
      "text/plain": [
       "[<matplotlib.lines.Line2D at 0x194fa62a040>]"
      ]
     },
     "execution_count": 411,
     "metadata": {},
     "output_type": "execute_result"
    },
    {
     "data": {
      "image/png": "[encoded data removed]",
      "text/plain": [
       "<Figure size 432x288 with 1 Axes>"
      ]
     },
     "metadata": {
      "needs_background": "light"
     },
     "output_type": "display_data"
    }
   ],
   "source": [
    "plt.plot(signal[50000:55000])"
   ]
  },
  {
   "cell_type": "code",
   "execution_count": 412,
   "metadata": {},
   "outputs": [
    {
     "data": {
      "text/plain": [
       "array([[1442. ],\n",
       "       [ 992.5],\n",
       "       [1556. ],\n",
       "       [1104.5],\n",
       "       [2016. ],\n",
       "       [ 991.5],\n",
       "       [1670. ],\n",
       "       [1216.5],\n",
       "       [ 221. ],\n",
       "       [1554. ]])"
      ]
     },
     "execution_count": 412,
     "metadata": {},
     "output_type": "execute_result"
    }
   ],
   "source": [
    "harm_pd[['f_idx']].values[0:10]"
   ]
  },
  {
   "cell_type": "code",
   "execution_count": 413,
   "metadata": {
    "scrolled": false
   },
   "outputs": [
    {
     "data": {
      "text/plain": [
       "array([[13.04977376],\n",
       "       [ 8.98190045],\n",
       "       [14.08144796],\n",
       "       [ 9.99547511],\n",
       "       [18.24434389],\n",
       "       [ 8.97285068],\n",
       "       [15.11312217],\n",
       "       [11.00904977],\n",
       "       [ 2.        ],\n",
       "       [14.06334842],\n",
       "       [13.04072398],\n",
       "       [15.1040724 ],\n",
       "       [11.        ],\n",
       "       [10.96832579],\n",
       "       [12.01357466],\n",
       "       [18.22624434],\n",
       "       [10.97737557],\n",
       "       [12.02262443],\n",
       "       [ 8.9638009 ],\n",
       "       [12.9638009 ],\n",
       "       [ 3.99095023],\n",
       "       [ 5.98190045],\n",
       "       [15.13122172],\n",
       "       [ 2.99095023],\n",
       "       [18.26244344]])"
      ]
     },
     "execution_count": 413,
     "metadata": {},
     "output_type": "execute_result"
    }
   ],
   "source": [
    "harm_pd[['f_idx']].values/min(harm_pd[['f_idx']].values)[0]*2"
   ]
  },
  {
   "cell_type": "code",
   "execution_count": 414,
   "metadata": {},
   "outputs": [
    {
     "ename": "KeyError",
     "evalue": "\"None of [Int64Index([0], dtype='int64')] are in the [columns]\"",
     "output_type": "error",
     "traceback": [
      "\u001b[1;31m---------------------------------------------------------------------------\u001b[0m",
      "\u001b[1;31mKeyError\u001b[0m                                  Traceback (most recent call last)",
      "\u001b[1;32m<ipython-input-414-730605328f4c>\u001b[0m in \u001b[0;36m<module>\u001b[1;34m\u001b[0m\n\u001b[1;32m----> 1\u001b[1;33m \u001b[0mPlay\u001b[0m\u001b[1;33m(\u001b[0m\u001b[0mCreate_signal\u001b[0m\u001b[1;33m(\u001b[0m\u001b[0mharm_pd\u001b[0m\u001b[1;33m[\u001b[0m\u001b[1;33m[\u001b[0m\u001b[1;34m'f_idx'\u001b[0m\u001b[1;33m]\u001b[0m\u001b[1;33m]\u001b[0m\u001b[1;33m.\u001b[0m\u001b[0mvalues\u001b[0m\u001b[1;33m[\u001b[0m\u001b[1;36m0\u001b[0m\u001b[1;33m:\u001b[0m\u001b[1;36m25\u001b[0m\u001b[1;33m]\u001b[0m \u001b[1;33m,\u001b[0m\u001b[0mharm_pd\u001b[0m\u001b[1;33m[\u001b[0m\u001b[1;33m[\u001b[0m\u001b[1;36m0\u001b[0m\u001b[1;33m]\u001b[0m\u001b[1;33m]\u001b[0m\u001b[1;33m.\u001b[0m\u001b[0mvalues\u001b[0m\u001b[1;33m[\u001b[0m\u001b[1;36m0\u001b[0m\u001b[1;33m:\u001b[0m\u001b[1;36m25\u001b[0m\u001b[1;33m]\u001b[0m\u001b[1;33m)\u001b[0m\u001b[1;33m)\u001b[0m\u001b[1;33m\u001b[0m\u001b[1;33m\u001b[0m\u001b[0m\n\u001b[0m",
      "\u001b[1;32m~\\Anaconda3\\lib\\site-packages\\pandas\\core\\frame.py\u001b[0m in \u001b[0;36m__getitem__\u001b[1;34m(self, key)\u001b[0m\n\u001b[0;32m   2906\u001b[0m             \u001b[1;32mif\u001b[0m \u001b[0mis_iterator\u001b[0m\u001b[1;33m(\u001b[0m\u001b[0mkey\u001b[0m\u001b[1;33m)\u001b[0m\u001b[1;33m:\u001b[0m\u001b[1;33m\u001b[0m\u001b[1;33m\u001b[0m\u001b[0m\n\u001b[0;32m   2907\u001b[0m                 \u001b[0mkey\u001b[0m \u001b[1;33m=\u001b[0m \u001b[0mlist\u001b[0m\u001b[1;33m(\u001b[0m\u001b[0mkey\u001b[0m\u001b[1;33m)\u001b[0m\u001b[1;33m\u001b[0m\u001b[1;33m\u001b[0m\u001b[0m\n\u001b[1;32m-> 2908\u001b[1;33m             \u001b[0mindexer\u001b[0m \u001b[1;33m=\u001b[0m \u001b[0mself\u001b[0m\u001b[1;33m.\u001b[0m\u001b[0mloc\u001b[0m\u001b[1;33m.\u001b[0m\u001b[0m_get_listlike_indexer\u001b[0m\u001b[1;33m(\u001b[0m\u001b[0mkey\u001b[0m\u001b[1;33m,\u001b[0m \u001b[0maxis\u001b[0m\u001b[1;33m=\u001b[0m\u001b[1;36m1\u001b[0m\u001b[1;33m,\u001b[0m \u001b[0mraise_missing\u001b[0m\u001b[1;33m=\u001b[0m\u001b[1;32mTrue\u001b[0m\u001b[1;33m)\u001b[0m\u001b[1;33m[\u001b[0m\u001b[1;36m1\u001b[0m\u001b[1;33m]\u001b[0m\u001b[1;33m\u001b[0m\u001b[1;33m\u001b[0m\u001b[0m\n\u001b[0m\u001b[0;32m   2909\u001b[0m \u001b[1;33m\u001b[0m\u001b[0m\n\u001b[0;32m   2910\u001b[0m         \u001b[1;31m# take() does not accept boolean indexers\u001b[0m\u001b[1;33m\u001b[0m\u001b[1;33m\u001b[0m\u001b[1;33m\u001b[0m\u001b[0m\n",
      "\u001b[1;32m~\\Anaconda3\\lib\\site-packages\\pandas\\core\\indexing.py\u001b[0m in \u001b[0;36m_get_listlike_indexer\u001b[1;34m(self, key, axis, raise_missing)\u001b[0m\n\u001b[0;32m   1252\u001b[0m             \u001b[0mkeyarr\u001b[0m\u001b[1;33m,\u001b[0m \u001b[0mindexer\u001b[0m\u001b[1;33m,\u001b[0m \u001b[0mnew_indexer\u001b[0m \u001b[1;33m=\u001b[0m \u001b[0max\u001b[0m\u001b[1;33m.\u001b[0m\u001b[0m_reindex_non_unique\u001b[0m\u001b[1;33m(\u001b[0m\u001b[0mkeyarr\u001b[0m\u001b[1;33m)\u001b[0m\u001b[1;33m\u001b[0m\u001b[1;33m\u001b[0m\u001b[0m\n\u001b[0;32m   1253\u001b[0m \u001b[1;33m\u001b[0m\u001b[0m\n\u001b[1;32m-> 1254\u001b[1;33m         \u001b[0mself\u001b[0m\u001b[1;33m.\u001b[0m\u001b[0m_validate_read_indexer\u001b[0m\u001b[1;33m(\u001b[0m\u001b[0mkeyarr\u001b[0m\u001b[1;33m,\u001b[0m \u001b[0mindexer\u001b[0m\u001b[1;33m,\u001b[0m \u001b[0maxis\u001b[0m\u001b[1;33m,\u001b[0m \u001b[0mraise_missing\u001b[0m\u001b[1;33m=\u001b[0m\u001b[0mraise_missing\u001b[0m\u001b[1;33m)\u001b[0m\u001b[1;33m\u001b[0m\u001b[1;33m\u001b[0m\u001b[0m\n\u001b[0m\u001b[0;32m   1255\u001b[0m         \u001b[1;32mreturn\u001b[0m \u001b[0mkeyarr\u001b[0m\u001b[1;33m,\u001b[0m \u001b[0mindexer\u001b[0m\u001b[1;33m\u001b[0m\u001b[1;33m\u001b[0m\u001b[0m\n\u001b[0;32m   1256\u001b[0m \u001b[1;33m\u001b[0m\u001b[0m\n",
      "\u001b[1;32m~\\Anaconda3\\lib\\site-packages\\pandas\\core\\indexing.py\u001b[0m in \u001b[0;36m_validate_read_indexer\u001b[1;34m(self, key, indexer, axis, raise_missing)\u001b[0m\n\u001b[0;32m   1296\u001b[0m             \u001b[1;32mif\u001b[0m \u001b[0mmissing\u001b[0m \u001b[1;33m==\u001b[0m \u001b[0mlen\u001b[0m\u001b[1;33m(\u001b[0m\u001b[0mindexer\u001b[0m\u001b[1;33m)\u001b[0m\u001b[1;33m:\u001b[0m\u001b[1;33m\u001b[0m\u001b[1;33m\u001b[0m\u001b[0m\n\u001b[0;32m   1297\u001b[0m                 \u001b[0maxis_name\u001b[0m \u001b[1;33m=\u001b[0m \u001b[0mself\u001b[0m\u001b[1;33m.\u001b[0m\u001b[0mobj\u001b[0m\u001b[1;33m.\u001b[0m\u001b[0m_get_axis_name\u001b[0m\u001b[1;33m(\u001b[0m\u001b[0maxis\u001b[0m\u001b[1;33m)\u001b[0m\u001b[1;33m\u001b[0m\u001b[1;33m\u001b[0m\u001b[0m\n\u001b[1;32m-> 1298\u001b[1;33m                 \u001b[1;32mraise\u001b[0m \u001b[0mKeyError\u001b[0m\u001b[1;33m(\u001b[0m\u001b[1;34mf\"None of [{key}] are in the [{axis_name}]\"\u001b[0m\u001b[1;33m)\u001b[0m\u001b[1;33m\u001b[0m\u001b[1;33m\u001b[0m\u001b[0m\n\u001b[0m\u001b[0;32m   1299\u001b[0m \u001b[1;33m\u001b[0m\u001b[0m\n\u001b[0;32m   1300\u001b[0m             \u001b[1;31m# We (temporarily) allow for some missing keys with .loc, except in\u001b[0m\u001b[1;33m\u001b[0m\u001b[1;33m\u001b[0m\u001b[1;33m\u001b[0m\u001b[0m\n",
      "\u001b[1;31mKeyError\u001b[0m: \"None of [Int64Index([0], dtype='int64')] are in the [columns]\""
     ]
    }
   ],
   "source": [
    "Play(Create_signal(harm_pd[['f_idx']].values[0:25] ,harm_pd[[0]].values[0:25]))"
   ]
  },
  {
   "cell_type": "markdown",
   "metadata": {},
   "source": [
    "### Footprint of harmonics for a C2 note"
   ]
  },
  {
   "cell_type": "code",
   "execution_count": 56,
   "metadata": {
    "scrolled": false
   },
   "outputs": [],
   "source": [
    "h_footprint=np.array(harm_pd['f_idx'].values/65.4)\n",
    "a_footprint=np.array(harm_pd['f_pwr'].values)"
   ]
  },
  {
   "cell_type": "code",
   "execution_count": 444,
   "metadata": {},
   "outputs": [
    {
     "ename": "NameError",
     "evalue": "name 'a_footprint' is not defined",
     "output_type": "error",
     "traceback": [
      "\u001b[1;31m---------------------------------------------------------------------------\u001b[0m",
      "\u001b[1;31mNameError\u001b[0m                                 Traceback (most recent call last)",
      "\u001b[1;32m<ipython-input-444-a4f2e760b575>\u001b[0m in \u001b[0;36m<module>\u001b[1;34m\u001b[0m\n\u001b[1;32m----> 1\u001b[1;33m \u001b[0mPlay\u001b[0m\u001b[1;33m(\u001b[0m\u001b[0mCreate_signal\u001b[0m\u001b[1;33m(\u001b[0m\u001b[0mh_footprint\u001b[0m\u001b[1;33m*\u001b[0m\u001b[0mnotes_df\u001b[0m\u001b[1;33m[\u001b[0m\u001b[0mnotes_df\u001b[0m\u001b[1;33m[\u001b[0m\u001b[1;34m'name'\u001b[0m\u001b[1;33m]\u001b[0m\u001b[1;33m==\u001b[0m\u001b[1;34m\"C-2\"\u001b[0m\u001b[1;33m]\u001b[0m\u001b[1;33m[\u001b[0m\u001b[1;33m[\u001b[0m\u001b[1;34m'frec'\u001b[0m\u001b[1;33m]\u001b[0m\u001b[1;33m]\u001b[0m\u001b[1;33m.\u001b[0m\u001b[0mvalues\u001b[0m\u001b[1;33m[\u001b[0m\u001b[1;36m0\u001b[0m\u001b[1;33m]\u001b[0m\u001b[1;33m[\u001b[0m\u001b[1;36m0\u001b[0m\u001b[1;33m]\u001b[0m\u001b[1;33m,\u001b[0m\u001b[0ma_footprint\u001b[0m\u001b[1;33m)\u001b[0m\u001b[1;33m)\u001b[0m\u001b[1;33m\u001b[0m\u001b[1;33m\u001b[0m\u001b[0m\n\u001b[0m",
      "\u001b[1;31mNameError\u001b[0m: name 'a_footprint' is not defined"
     ]
    }
   ],
   "source": [
    "Play(Create_signal(h_footprint*notes_df[notes_df['name']==\"C-2\"][['frec']].values[0][0],a_footprint))"
   ]
  },
  {
   "cell_type": "code",
   "execution_count": 59,
   "metadata": {},
   "outputs": [],
   "source": [
    "Play(Create_signal(np.round(h_footprint,2)*notes_df[notes_df['name']==\"C-2\"][['frec']].values[0][0],a_footprint))"
   ]
  },
  {
   "cell_type": "code",
   "execution_count": null,
   "metadata": {},
   "outputs": [],
   "source": []
  },
  {
   "cell_type": "code",
   "execution_count": 445,
   "metadata": {},
   "outputs": [
    {
     "data": {
      "text/html": [
       "<div>\n",
       "<style scoped>\n",
       "    .dataframe tbody tr th:only-of-type {\n",
       "        vertical-align: middle;\n",
       "    }\n",
       "\n",
       "    .dataframe tbody tr th {\n",
       "        vertical-align: top;\n",
       "    }\n",
       "\n",
       "    .dataframe thead th {\n",
       "        text-align: right;\n",
       "    }\n",
       "</style>\n",
       "<table border=\"1\" class=\"dataframe\">\n",
       "  <thead>\n",
       "    <tr style=\"text-align: right;\">\n",
       "      <th></th>\n",
       "      <th>f_idx</th>\n",
       "      <th>f_pwr</th>\n",
       "      <th>f_pwr_2</th>\n",
       "      <th>f_pwr_3</th>\n",
       "      <th>max_freq</th>\n",
       "      <th>note</th>\n",
       "    </tr>\n",
       "  </thead>\n",
       "  <tbody>\n",
       "    <tr>\n",
       "      <th>0</th>\n",
       "      <td>1442.0</td>\n",
       "      <td>3.095368e+06</td>\n",
       "      <td>8.904460e+05</td>\n",
       "      <td>2.804045e+06</td>\n",
       "      <td>1</td>\n",
       "      <td>F#-6 ~-45%</td>\n",
       "    </tr>\n",
       "    <tr>\n",
       "      <th>1</th>\n",
       "      <td>992.5</td>\n",
       "      <td>3.083490e+06</td>\n",
       "      <td>4.802877e+05</td>\n",
       "      <td>2.190066e+06</td>\n",
       "      <td>1</td>\n",
       "      <td>B-5 ~8%</td>\n",
       "    </tr>\n",
       "    <tr>\n",
       "      <th>3</th>\n",
       "      <td>1556.0</td>\n",
       "      <td>2.435905e+06</td>\n",
       "      <td>2.124995e+06</td>\n",
       "      <td>1.256873e+06</td>\n",
       "      <td>1</td>\n",
       "      <td>G-6 ~-13%</td>\n",
       "    </tr>\n",
       "    <tr>\n",
       "      <th>4</th>\n",
       "      <td>1104.5</td>\n",
       "      <td>2.337408e+06</td>\n",
       "      <td>1.476604e+06</td>\n",
       "      <td>1.544903e+06</td>\n",
       "      <td>1</td>\n",
       "      <td>C#-6 ~-7%</td>\n",
       "    </tr>\n",
       "    <tr>\n",
       "      <th>12</th>\n",
       "      <td>2016.0</td>\n",
       "      <td>1.243786e+06</td>\n",
       "      <td>3.568770e+05</td>\n",
       "      <td>6.727855e+05</td>\n",
       "      <td>1</td>\n",
       "      <td>B-6 ~35%</td>\n",
       "    </tr>\n",
       "  </tbody>\n",
       "</table>\n",
       "</div>"
      ],
      "text/plain": [
       "     f_idx         f_pwr       f_pwr_2       f_pwr_3  max_freq        note\n",
       "0   1442.0  3.095368e+06  8.904460e+05  2.804045e+06         1  F#-6 ~-45%\n",
       "1    992.5  3.083490e+06  4.802877e+05  2.190066e+06         1     B-5 ~8%\n",
       "3   1556.0  2.435905e+06  2.124995e+06  1.256873e+06         1   G-6 ~-13%\n",
       "4   1104.5  2.337408e+06  1.476604e+06  1.544903e+06         1   C#-6 ~-7%\n",
       "12  2016.0  1.243786e+06  3.568770e+05  6.727855e+05         1    B-6 ~35%"
      ]
     },
     "execution_count": 445,
     "metadata": {},
     "output_type": "execute_result"
    }
   ],
   "source": [
    "harm_pd.head()"
   ]
  },
  {
   "cell_type": "code",
   "execution_count": 446,
   "metadata": {},
   "outputs": [
    {
     "data": {
      "text/plain": [
       "65.4063913251497"
      ]
     },
     "execution_count": 446,
     "metadata": {},
     "output_type": "execute_result"
    }
   ],
   "source": [
    "notes_df[notes_df['name']==\"C-2\"][['frec']].values[0][0]"
   ]
  },
  {
   "cell_type": "code",
   "execution_count": 61,
   "metadata": {},
   "outputs": [
    {
     "data": {
      "text/plain": [
       "array([14.08256881, 24.08256881, 15.10703364, 23.53975535,  7.0030581 ,\n",
       "       17.1941896 , 10.01529052, 22.46941896, 13.00458716, 18.23394495,\n",
       "       31.23853211,  3.00458716, 13.05810398, 19.28134557,  6.00152905,\n",
       "       33.34862385, 21.40672783, 22.04892966, 11.02446483, 37.54587156,\n",
       "        9.00611621, 33.47859327, 19.01376147, 19.25840979, 40.4204893 ])"
      ]
     },
     "execution_count": 61,
     "metadata": {},
     "output_type": "execute_result"
    }
   ],
   "source": [
    "h_footprint"
   ]
  },
  {
   "cell_type": "code",
   "execution_count": 852,
   "metadata": {},
   "outputs": [],
   "source": [
    "## SAVES A NEW FOOTPRINT\n",
    "footprint_C2 = pd.DataFrame({'harm': h_footprint,'amp': a_footprint}).sort_values('harm')\n",
    "footprint_C2['index']=np.arange(len(h_footprint))\n",
    "footprint_C2.set_index('index',inplace=True)\n",
    "footprint_C2.to_csv('footprint_C2.csv')\n"
   ]
  },
  {
   "cell_type": "code",
   "execution_count": 432,
   "metadata": {},
   "outputs": [],
   "source": [
    "h_footprint=pd.read_csv('footprint_C2.csv')"
   ]
  },
  {
   "cell_type": "code",
   "execution_count": 447,
   "metadata": {},
   "outputs": [],
   "source": [
    "Play(Create_signal(h_footprint['harm']*65., h_footprint['amp']))"
   ]
  },
  {
   "cell_type": "code",
   "execution_count": 433,
   "metadata": {},
   "outputs": [
    {
     "data": {
      "text/html": [
       "<div>\n",
       "<style scoped>\n",
       "    .dataframe tbody tr th:only-of-type {\n",
       "        vertical-align: middle;\n",
       "    }\n",
       "\n",
       "    .dataframe tbody tr th {\n",
       "        vertical-align: top;\n",
       "    }\n",
       "\n",
       "    .dataframe thead th {\n",
       "        text-align: right;\n",
       "    }\n",
       "</style>\n",
       "<table border=\"1\" class=\"dataframe\">\n",
       "  <thead>\n",
       "    <tr style=\"text-align: right;\">\n",
       "      <th></th>\n",
       "      <th>index</th>\n",
       "      <th>harm</th>\n",
       "      <th>amp</th>\n",
       "    </tr>\n",
       "  </thead>\n",
       "  <tbody>\n",
       "    <tr>\n",
       "      <th>0</th>\n",
       "      <td>0</td>\n",
       "      <td>2.0</td>\n",
       "      <td>723670.2</td>\n",
       "    </tr>\n",
       "    <tr>\n",
       "      <th>1</th>\n",
       "      <td>1</td>\n",
       "      <td>3.0</td>\n",
       "      <td>1558307.1</td>\n",
       "    </tr>\n",
       "    <tr>\n",
       "      <th>2</th>\n",
       "      <td>2</td>\n",
       "      <td>5.0</td>\n",
       "      <td>827036.5</td>\n",
       "    </tr>\n",
       "    <tr>\n",
       "      <th>3</th>\n",
       "      <td>3</td>\n",
       "      <td>6.0</td>\n",
       "      <td>903257.1</td>\n",
       "    </tr>\n",
       "    <tr>\n",
       "      <th>4</th>\n",
       "      <td>4</td>\n",
       "      <td>7.0</td>\n",
       "      <td>1821525.0</td>\n",
       "    </tr>\n",
       "    <tr>\n",
       "      <th>5</th>\n",
       "      <td>5</td>\n",
       "      <td>9.0</td>\n",
       "      <td>1424605.6</td>\n",
       "    </tr>\n",
       "    <tr>\n",
       "      <th>6</th>\n",
       "      <td>6</td>\n",
       "      <td>10.0</td>\n",
       "      <td>2418249.8</td>\n",
       "    </tr>\n",
       "    <tr>\n",
       "      <th>7</th>\n",
       "      <td>7</td>\n",
       "      <td>11.0</td>\n",
       "      <td>1146885.1</td>\n",
       "    </tr>\n",
       "    <tr>\n",
       "      <th>8</th>\n",
       "      <td>8</td>\n",
       "      <td>12.0</td>\n",
       "      <td>602339.4</td>\n",
       "    </tr>\n",
       "    <tr>\n",
       "      <th>9</th>\n",
       "      <td>9</td>\n",
       "      <td>13.0</td>\n",
       "      <td>1318819.5</td>\n",
       "    </tr>\n",
       "    <tr>\n",
       "      <th>10</th>\n",
       "      <td>10</td>\n",
       "      <td>13.1</td>\n",
       "      <td>879430.9</td>\n",
       "    </tr>\n",
       "    <tr>\n",
       "      <th>11</th>\n",
       "      <td>11</td>\n",
       "      <td>14.1</td>\n",
       "      <td>1865552.7</td>\n",
       "    </tr>\n",
       "    <tr>\n",
       "      <th>12</th>\n",
       "      <td>12</td>\n",
       "      <td>15.1</td>\n",
       "      <td>1268274.8</td>\n",
       "    </tr>\n",
       "    <tr>\n",
       "      <th>13</th>\n",
       "      <td>13</td>\n",
       "      <td>17.2</td>\n",
       "      <td>735144.3</td>\n",
       "    </tr>\n",
       "    <tr>\n",
       "      <th>14</th>\n",
       "      <td>14</td>\n",
       "      <td>19.0</td>\n",
       "      <td>642084.9</td>\n",
       "    </tr>\n",
       "    <tr>\n",
       "      <th>15</th>\n",
       "      <td>15</td>\n",
       "      <td>19.3</td>\n",
       "      <td>1127430.7</td>\n",
       "    </tr>\n",
       "    <tr>\n",
       "      <th>16</th>\n",
       "      <td>16</td>\n",
       "      <td>22.5</td>\n",
       "      <td>1543174.9</td>\n",
       "    </tr>\n",
       "    <tr>\n",
       "      <th>17</th>\n",
       "      <td>17</td>\n",
       "      <td>23.5</td>\n",
       "      <td>1344029.0</td>\n",
       "    </tr>\n",
       "    <tr>\n",
       "      <th>18</th>\n",
       "      <td>18</td>\n",
       "      <td>24.1</td>\n",
       "      <td>1881804.8</td>\n",
       "    </tr>\n",
       "    <tr>\n",
       "      <th>19</th>\n",
       "      <td>19</td>\n",
       "      <td>30.1</td>\n",
       "      <td>845463.9</td>\n",
       "    </tr>\n",
       "    <tr>\n",
       "      <th>20</th>\n",
       "      <td>20</td>\n",
       "      <td>31.2</td>\n",
       "      <td>2111636.6</td>\n",
       "    </tr>\n",
       "    <tr>\n",
       "      <th>21</th>\n",
       "      <td>21</td>\n",
       "      <td>33.3</td>\n",
       "      <td>963105.4</td>\n",
       "    </tr>\n",
       "    <tr>\n",
       "      <th>22</th>\n",
       "      <td>22</td>\n",
       "      <td>33.5</td>\n",
       "      <td>592757.4</td>\n",
       "    </tr>\n",
       "    <tr>\n",
       "      <th>23</th>\n",
       "      <td>23</td>\n",
       "      <td>40.4</td>\n",
       "      <td>573212.5</td>\n",
       "    </tr>\n",
       "    <tr>\n",
       "      <th>24</th>\n",
       "      <td>24</td>\n",
       "      <td>40.4</td>\n",
       "      <td>524942.2</td>\n",
       "    </tr>\n",
       "  </tbody>\n",
       "</table>\n",
       "</div>"
      ],
      "text/plain": [
       "    index  harm        amp\n",
       "0       0   2.0   723670.2\n",
       "1       1   3.0  1558307.1\n",
       "2       2   5.0   827036.5\n",
       "3       3   6.0   903257.1\n",
       "4       4   7.0  1821525.0\n",
       "5       5   9.0  1424605.6\n",
       "6       6  10.0  2418249.8\n",
       "7       7  11.0  1146885.1\n",
       "8       8  12.0   602339.4\n",
       "9       9  13.0  1318819.5\n",
       "10     10  13.1   879430.9\n",
       "11     11  14.1  1865552.7\n",
       "12     12  15.1  1268274.8\n",
       "13     13  17.2   735144.3\n",
       "14     14  19.0   642084.9\n",
       "15     15  19.3  1127430.7\n",
       "16     16  22.5  1543174.9\n",
       "17     17  23.5  1344029.0\n",
       "18     18  24.1  1881804.8\n",
       "19     19  30.1   845463.9\n",
       "20     20  31.2  2111636.6\n",
       "21     21  33.3   963105.4\n",
       "22     22  33.5   592757.4\n",
       "23     23  40.4   573212.5\n",
       "24     24  40.4   524942.2"
      ]
     },
     "execution_count": 433,
     "metadata": {},
     "output_type": "execute_result"
    }
   ],
   "source": [
    "np.round(h_footprint,1)"
   ]
  },
  {
   "cell_type": "code",
   "execution_count": 803,
   "metadata": {},
   "outputs": [
    {
     "data": {
      "text/plain": [
       "array([0. , 0. , 0.5, 0.5, 0.5, 0.5, 0.5, 1. , 1. ])"
      ]
     },
     "execution_count": 803,
     "metadata": {},
     "output_type": "execute_result"
    }
   ],
   "source": [
    "np.round(np.array([.1,.2,.3,.4,.5,.6,.7,.8,.9])*2,0)/2"
   ]
  },
  {
   "cell_type": "code",
   "execution_count": 14,
   "metadata": {},
   "outputs": [
    {
     "data": {
      "text/plain": [
       "'C-3 ~-4%'"
      ]
     },
     "execution_count": 14,
     "metadata": {},
     "output_type": "execute_result"
    }
   ],
   "source": [
    "tunner(130.5)"
   ]
  },
  {
   "cell_type": "code",
   "execution_count": 15,
   "metadata": {
    "scrolled": true
   },
   "outputs": [
    {
     "data": {
      "text/plain": [
       "array([0.00000e+00, 5.00000e-01, 1.00000e+00, ..., 2.55985e+04,\n",
       "       2.55990e+04, 2.55995e+04])"
      ]
     },
     "execution_count": 15,
     "metadata": {},
     "output_type": "execute_result"
    }
   ],
   "source": [
    "np.fft.fftfreq(fs*seconds,d=1/fs)[0:fs*seconds//2]"
   ]
  },
  {
   "cell_type": "code",
   "execution_count": 16,
   "metadata": {},
   "outputs": [
    {
     "data": {
      "text/plain": [
       "array([0.  , 0.25, 0.5 , 0.75, 1.  , 1.25, 1.5 , 1.75, 2.  , 2.25])"
      ]
     },
     "execution_count": 16,
     "metadata": {},
     "output_type": "execute_result"
    }
   ],
   "source": [
    "np.fft.fftfreq(10*2,d=2/10)[0:10*2//2] # How do I improve the precission of the frequencies??"
   ]
  },
  {
   "cell_type": "code",
   "execution_count": 736,
   "metadata": {},
   "outputs": [
    {
     "data": {
      "text/plain": [
       "array([ 0. ,  0.5,  1. ,  1.5,  2. ,  2.5,  3. ,  3.5,  4. ,  4.5, -5. ,\n",
       "       -4.5, -4. , -3.5, -3. , -2.5, -2. , -1.5, -1. , -0.5])"
      ]
     },
     "execution_count": 736,
     "metadata": {},
     "output_type": "execute_result"
    }
   ],
   "source": [
    "np.fft.fftfreq(10*2,1/10)"
   ]
  },
  {
   "cell_type": "code",
   "execution_count": 740,
   "metadata": {},
   "outputs": [
    {
     "data": {
      "text/plain": [
       "array([ 0.  ,  0.25,  0.5 ,  0.75,  1.  ,  1.25,  1.5 ,  1.75,  2.  ,\n",
       "        2.25, -2.5 , -2.25, -2.  , -1.75, -1.5 , -1.25, -1.  , -0.75,\n",
       "       -0.5 , -0.25])"
      ]
     },
     "execution_count": 740,
     "metadata": {},
     "output_type": "execute_result"
    }
   ],
   "source": [
    "np.fft.fftfreq((10//2)*(2*2),1/(10/2))"
   ]
  },
  {
   "cell_type": "code",
   "execution_count": 64,
   "metadata": {},
   "outputs": [
    {
     "data": {
      "text/plain": [
       "9"
      ]
     },
     "execution_count": 64,
     "metadata": {},
     "output_type": "execute_result"
    }
   ],
   "source": [
    "max(np.frombuffer(frames_list[3],np.int16))-min(np.frombuffer(frames_list[3],np.int16))"
   ]
  },
  {
   "cell_type": "code",
   "execution_count": 62,
   "metadata": {
    "scrolled": true
   },
   "outputs": [
    {
     "data": {
      "text/plain": [
       "[<matplotlib.lines.Line2D at 0x2bc4b787d90>]"
      ]
     },
     "execution_count": 62,
     "metadata": {},
     "output_type": "execute_result"
    },
    {
     "data": {
      "image/png": "[encoded data removed]",
      "text/plain": [
       "<Figure size 432x288 with 1 Axes>"
      ]
     },
     "metadata": {
      "needs_background": "light"
     },
     "output_type": "display_data"
    }
   ],
   "source": [
    "plt.plot(np.frombuffer(frames_list[5],np.int16))"
   ]
  },
  {
   "cell_type": "code",
   "execution_count": null,
   "metadata": {},
   "outputs": [],
   "source": [
    "\n"
   ]
  },
  {
   "cell_type": "markdown",
   "metadata": {},
   "source": [
    "## Creating a Sound \n",
    "### The manual process that led to the creation of the function Create_signal() "
   ]
  },
  {
   "cell_type": "code",
   "execution_count": 613,
   "metadata": {},
   "outputs": [],
   "source": [
    "t_signal = np.zeros(fs*seconds, dtype=np.int16)\n",
    "#t_signal[440*seconds] = 1000\n",
    "#t_signal[880*seconds] = 1500\n",
    "count = 0\n",
    "for i in (harm_pd['f_idx'].values*2):\n",
    "    t_signal[int(i)]=harm_pd[0].values[count]\n",
    "    count+=1\n",
    "for i in range(1,int(len(t_signal)/2),1):\n",
    "    t_signal[-i]=t_signal[i]"
   ]
  },
  {
   "cell_type": "code",
   "execution_count": 614,
   "metadata": {},
   "outputs": [],
   "source": [
    "signal_=np.real(np.fft.ifft(t_signal))\n",
    "signal_*=np.iinfo(np.int16).max/max(signal_)\n",
    "x=np.arange(0,fs*seconds)\n",
    "fade= 2-2/(np.exp(-x/fs*seconds)+1)\n",
    "signal_*=fade\n",
    "signal_*=fade\n",
    "#signal_[signal_>= np.iinfo(np.int16).max] =  np.iinfo(np.int16).max\n",
    "\n",
    "signal_=signal_.astype(np.int16)\n"
   ]
  },
  {
   "cell_type": "code",
   "execution_count": 615,
   "metadata": {},
   "outputs": [
    {
     "data": {
      "text/plain": [
       "[<matplotlib.lines.Line2D at 0x2bc0465c160>]"
      ]
     },
     "execution_count": 615,
     "metadata": {},
     "output_type": "execute_result"
    },
    {
     "data": {
      "image/png": "[encoded data removed]",
      "text/plain": [
       "<Figure size 432x288 with 1 Axes>"
      ]
     },
     "metadata": {
      "needs_background": "light"
     },
     "output_type": "display_data"
    }
   ],
   "source": [
    "plt.plot(signal_[0:51200//440*3])"
   ]
  },
  {
   "cell_type": "code",
   "execution_count": 616,
   "metadata": {
    "scrolled": true
   },
   "outputs": [
    {
     "data": {
      "text/plain": [
       "[<matplotlib.lines.Line2D at 0x2bc047c2f40>]"
      ]
     },
     "execution_count": 616,
     "metadata": {},
     "output_type": "execute_result"
    },
    {
     "data": {
      "image/png": "[encoded data removed]",
      "text/plain": [
       "<Figure size 432x288 with 1 Axes>"
      ]
     },
     "metadata": {
      "needs_background": "light"
     },
     "output_type": "display_data"
    }
   ],
   "source": [
    "plt.plot(signal_[0:5120*2])"
   ]
  },
  {
   "cell_type": "code",
   "execution_count": 617,
   "metadata": {
    "scrolled": false
   },
   "outputs": [
    {
     "data": {
      "text/plain": [
       "[<matplotlib.lines.Line2D at 0x2bc049c57f0>]"
      ]
     },
     "execution_count": 617,
     "metadata": {},
     "output_type": "execute_result"
    },
    {
     "data": {
      "image/png": "[encoded data removed]",
      "text/plain": [
       "<Figure size 432x288 with 1 Axes>"
      ]
     },
     "metadata": {
      "needs_background": "light"
     },
     "output_type": "display_data"
    }
   ],
   "source": [
    "plt.plot(signal_)"
   ]
  },
  {
   "cell_type": "code",
   "execution_count": 618,
   "metadata": {},
   "outputs": [],
   "source": [
    "Play(signal_)"
   ]
  },
  {
   "cell_type": "code",
   "execution_count": 610,
   "metadata": {},
   "outputs": [],
   "source": [
    "Play(signal)"
   ]
  },
  {
   "cell_type": "markdown",
   "metadata": {},
   "source": [
    "## Working with each chunk to and using them as samples"
   ]
  },
  {
   "cell_type": "code",
   "execution_count": 673,
   "metadata": {},
   "outputs": [],
   "source": [
    "ft_list = []\n",
    "for line in frames_list:\n",
    "    ft_list.append(np.abs(np.fft.fft(np.frombuffer(line,np.int16)))[0:fmax_chunk])\n",
    "ft_pandas = pd.DataFrame(ft_list,columns=f_idx_ch)"
   ]
  },
  {
   "cell_type": "code",
   "execution_count": 674,
   "metadata": {},
   "outputs": [
    {
     "data": {
      "text/plain": [
       "[<matplotlib.lines.Line2D at 0x28bd994a130>]"
      ]
     },
     "execution_count": 674,
     "metadata": {},
     "output_type": "execute_result"
    },
    {
     "data": {
      "image/png": "[encoded data removed]",
      "text/plain": [
       "<Figure size 432x288 with 1 Axes>"
      ]
     },
     "metadata": {
      "needs_background": "light"
     },
     "output_type": "display_data"
    }
   ],
   "source": [
    "plt.plot(ft_pandas.mean())"
   ]
  },
  {
   "cell_type": "code",
   "execution_count": 675,
   "metadata": {},
   "outputs": [
    {
     "data": {
      "text/html": [
       "<div>\n",
       "<style scoped>\n",
       "    .dataframe tbody tr th:only-of-type {\n",
       "        vertical-align: middle;\n",
       "    }\n",
       "\n",
       "    .dataframe tbody tr th {\n",
       "        vertical-align: top;\n",
       "    }\n",
       "\n",
       "    .dataframe thead th {\n",
       "        text-align: right;\n",
       "    }\n",
       "</style>\n",
       "<table border=\"1\" class=\"dataframe\">\n",
       "  <thead>\n",
       "    <tr style=\"text-align: right;\">\n",
       "      <th></th>\n",
       "      <th>0</th>\n",
       "    </tr>\n",
       "  </thead>\n",
       "  <tbody>\n",
       "    <tr>\n",
       "      <th>600.0</th>\n",
       "      <td>219524.473280</td>\n",
       "    </tr>\n",
       "    <tr>\n",
       "      <th>450.0</th>\n",
       "      <td>203688.419379</td>\n",
       "    </tr>\n",
       "    <tr>\n",
       "      <th>200.0</th>\n",
       "      <td>162990.285241</td>\n",
       "    </tr>\n",
       "    <tr>\n",
       "      <th>400.0</th>\n",
       "      <td>157640.542583</td>\n",
       "    </tr>\n",
       "    <tr>\n",
       "      <th>500.0</th>\n",
       "      <td>137117.810734</td>\n",
       "    </tr>\n",
       "  </tbody>\n",
       "</table>\n",
       "</div>"
      ],
      "text/plain": [
       "                   0\n",
       "600.0  219524.473280\n",
       "450.0  203688.419379\n",
       "200.0  162990.285241\n",
       "400.0  157640.542583\n",
       "500.0  137117.810734"
      ]
     },
     "execution_count": 675,
     "metadata": {},
     "output_type": "execute_result"
    }
   ],
   "source": [
    "pd.DataFrame(ft_pandas.mean()).nlargest(5,0)"
   ]
  },
  {
   "cell_type": "code",
   "execution_count": 676,
   "metadata": {
    "scrolled": true
   },
   "outputs": [
    {
     "data": {
      "text/plain": [
       "[<matplotlib.lines.Line2D at 0x28be4647c70>]"
      ]
     },
     "execution_count": 676,
     "metadata": {},
     "output_type": "execute_result"
    },
    {
     "data": {
      "image/png": "[encoded data removed]",
      "text/plain": [
       "<Figure size 432x288 with 1 Axes>"
      ]
     },
     "metadata": {
      "needs_background": "light"
     },
     "output_type": "display_data"
    }
   ],
   "source": [
    "plt.plot(ft_pandas.median())"
   ]
  },
  {
   "cell_type": "code",
   "execution_count": 677,
   "metadata": {},
   "outputs": [
    {
     "data": {
      "text/html": [
       "<div>\n",
       "<style scoped>\n",
       "    .dataframe tbody tr th:only-of-type {\n",
       "        vertical-align: middle;\n",
       "    }\n",
       "\n",
       "    .dataframe tbody tr th {\n",
       "        vertical-align: top;\n",
       "    }\n",
       "\n",
       "    .dataframe thead th {\n",
       "        text-align: right;\n",
       "    }\n",
       "</style>\n",
       "<table border=\"1\" class=\"dataframe\">\n",
       "  <thead>\n",
       "    <tr style=\"text-align: right;\">\n",
       "      <th></th>\n",
       "      <th>0</th>\n",
       "    </tr>\n",
       "  </thead>\n",
       "  <tbody>\n",
       "    <tr>\n",
       "      <th>600.0</th>\n",
       "      <td>154982.237558</td>\n",
       "    </tr>\n",
       "    <tr>\n",
       "      <th>200.0</th>\n",
       "      <td>135670.310485</td>\n",
       "    </tr>\n",
       "    <tr>\n",
       "      <th>750.0</th>\n",
       "      <td>127939.739598</td>\n",
       "    </tr>\n",
       "    <tr>\n",
       "      <th>450.0</th>\n",
       "      <td>98030.485277</td>\n",
       "    </tr>\n",
       "    <tr>\n",
       "      <th>500.0</th>\n",
       "      <td>72399.995822</td>\n",
       "    </tr>\n",
       "  </tbody>\n",
       "</table>\n",
       "</div>"
      ],
      "text/plain": [
       "                   0\n",
       "600.0  154982.237558\n",
       "200.0  135670.310485\n",
       "750.0  127939.739598\n",
       "450.0   98030.485277\n",
       "500.0   72399.995822"
      ]
     },
     "execution_count": 677,
     "metadata": {},
     "output_type": "execute_result"
    }
   ],
   "source": [
    "pd.DataFrame(ft_pandas.median()).nlargest(5,0)"
   ]
  },
  {
   "cell_type": "markdown",
   "metadata": {},
   "source": [
    "## A simpler wave to determine the main frequencies"
   ]
  },
  {
   "cell_type": "code",
   "execution_count": 182,
   "metadata": {},
   "outputs": [
    {
     "data": {
      "text/plain": [
       "[<matplotlib.lines.Line2D at 0x2bc4b99d670>]"
      ]
     },
     "execution_count": 182,
     "metadata": {},
     "output_type": "execute_result"
    },
    {
     "data": {
      "image/png": "[encoded data removed]",
      "text/plain": [
       "<Figure size 432x288 with 2 Axes>"
      ]
     },
     "metadata": {
      "needs_background": "light"
     },
     "output_type": "display_data"
    }
   ],
   "source": [
    "t = np.linspace(0,seconds,fs*seconds)              # A period split in the same samples as the original file\n",
    "f = np.sin(440*2*np.pi*t)+np.cos(450*2*np.pi*t)    # The wave\n",
    "Tf = np.fft.fft(f)                                 # The wave's transform \n",
    "Freqs = abs(Tf[0:round(fmax)])\n",
    "FFT2 = pd.DataFrame(Freqs)\n",
    "FFT2['f_idx'] = f_idx\n",
    "FFT2.set_index('f_idx',inplace=True)\n",
    "fig2, ax2 = plt.subplots(2,1)\n",
    "ax2[0].plot(f)\n",
    "ax2[1].plot(abs(Tf[0:int(FFT2.idxmax()+10)]))"
   ]
  },
  {
   "cell_type": "code",
   "execution_count": 183,
   "metadata": {},
   "outputs": [
    {
     "data": {
      "text/plain": [
       "<AxesSubplot:xlabel='f_idx'>"
      ]
     },
     "execution_count": 183,
     "metadata": {},
     "output_type": "execute_result"
    },
    {
     "data": {
      "image/png": "[encoded data removed]",
      "text/plain": [
       "<Figure size 432x288 with 1 Axes>"
      ]
     },
     "metadata": {
      "needs_background": "light"
     },
     "output_type": "display_data"
    }
   ],
   "source": [
    "FFT2[0:int(FFT2.idxmax()+10)].plot()"
   ]
  },
  {
   "cell_type": "code",
   "execution_count": 184,
   "metadata": {},
   "outputs": [
    {
     "data": {
      "text/html": [
       "<div>\n",
       "<style scoped>\n",
       "    .dataframe tbody tr th:only-of-type {\n",
       "        vertical-align: middle;\n",
       "    }\n",
       "\n",
       "    .dataframe tbody tr th {\n",
       "        vertical-align: top;\n",
       "    }\n",
       "\n",
       "    .dataframe thead th {\n",
       "        text-align: right;\n",
       "    }\n",
       "</style>\n",
       "<table border=\"1\" class=\"dataframe\">\n",
       "  <thead>\n",
       "    <tr style=\"text-align: right;\">\n",
       "      <th></th>\n",
       "      <th>0</th>\n",
       "    </tr>\n",
       "    <tr>\n",
       "      <th>f_idx</th>\n",
       "      <th></th>\n",
       "    </tr>\n",
       "  </thead>\n",
       "  <tbody>\n",
       "    <tr>\n",
       "      <th>450.0</th>\n",
       "      <td>51193.749212</td>\n",
       "    </tr>\n",
       "    <tr>\n",
       "      <th>440.0</th>\n",
       "      <td>51193.535157</td>\n",
       "    </tr>\n",
       "    <tr>\n",
       "      <th>450.5</th>\n",
       "      <td>454.182295</td>\n",
       "    </tr>\n",
       "    <tr>\n",
       "      <th>449.5</th>\n",
       "      <td>446.890999</td>\n",
       "    </tr>\n",
       "    <tr>\n",
       "      <th>440.5</th>\n",
       "      <td>444.658452</td>\n",
       "    </tr>\n",
       "    <tr>\n",
       "      <th>439.5</th>\n",
       "      <td>436.490215</td>\n",
       "    </tr>\n",
       "    <tr>\n",
       "      <th>451.0</th>\n",
       "      <td>226.623583</td>\n",
       "    </tr>\n",
       "    <tr>\n",
       "      <th>449.0</th>\n",
       "      <td>225.596000</td>\n",
       "    </tr>\n",
       "    <tr>\n",
       "      <th>441.0</th>\n",
       "      <td>222.609753</td>\n",
       "    </tr>\n",
       "    <tr>\n",
       "      <th>439.0</th>\n",
       "      <td>219.760680</td>\n",
       "    </tr>\n",
       "  </tbody>\n",
       "</table>\n",
       "</div>"
      ],
      "text/plain": [
       "                  0\n",
       "f_idx              \n",
       "450.0  51193.749212\n",
       "440.0  51193.535157\n",
       "450.5    454.182295\n",
       "449.5    446.890999\n",
       "440.5    444.658452\n",
       "439.5    436.490215\n",
       "451.0    226.623583\n",
       "449.0    225.596000\n",
       "441.0    222.609753\n",
       "439.0    219.760680"
      ]
     },
     "execution_count": 184,
     "metadata": {},
     "output_type": "execute_result"
    }
   ],
   "source": [
    "FFT2.nlargest(10,0)"
   ]
  },
  {
   "cell_type": "code",
   "execution_count": 216,
   "metadata": {},
   "outputs": [],
   "source": [
    "Play(f)"
   ]
  },
  {
   "cell_type": "code",
   "execution_count": 409,
   "metadata": {},
   "outputs": [
    {
     "data": {
      "text/plain": [
       "array([1.        , 0.99998047, 0.99996094, ..., 0.03597656, 0.03597518,\n",
       "       0.0359738 ])"
      ]
     },
     "execution_count": 409,
     "metadata": {},
     "output_type": "execute_result"
    }
   ],
   "source": [
    "2-2/(np.exp(-x/fs*seconds)+1)"
   ]
  },
  {
   "cell_type": "code",
   "execution_count": 548,
   "metadata": {},
   "outputs": [
    {
     "data": {
      "text/plain": [
       "32767"
      ]
     },
     "execution_count": 548,
     "metadata": {},
     "output_type": "execute_result"
    }
   ],
   "source": [
    " np.iinfo(np.int16).max"
   ]
  },
  {
   "cell_type": "code",
   "execution_count": 411,
   "metadata": {},
   "outputs": [
    {
     "data": {
      "text/plain": [
       "102400"
      ]
     },
     "execution_count": 411,
     "metadata": {},
     "output_type": "execute_result"
    }
   ],
   "source": [
    "len(signal_)"
   ]
  },
  {
   "cell_type": "code",
   "execution_count": 443,
   "metadata": {},
   "outputs": [
    {
     "data": {
      "text/plain": [
       "(0.7071067811865476+0.7071067811865476j)"
      ]
     },
     "execution_count": 443,
     "metadata": {},
     "output_type": "execute_result"
    }
   ],
   "source": [
    "np.exp(complex('j')*np.pi/4)"
   ]
  },
  {
   "cell_type": "markdown",
   "metadata": {},
   "source": [
    "## Saving a file"
   ]
  },
  {
   "cell_type": "code",
   "execution_count": null,
   "metadata": {},
   "outputs": [],
   "source": [
    "# Save the recorded data as a WAV file\n",
    "wf = wave.open(filename, 'wb')\n",
    "wf.setnchannels(channels)\n",
    "wf.setsampwidth(p.get_sample_size(sample_format))\n",
    "wf.setframerate(fs)\n",
    "wf.writeframes(b''.join(frames))\n",
    "wf.close()"
   ]
  }
 ],
 "metadata": {
  "kernelspec": {
   "display_name": "Python 3",
   "language": "python",
   "name": "python3"
  },
  "language_info": {
   "codemirror_mode": {
    "name": "ipython",
    "version": 3
   },
   "file_extension": ".py",
   "mimetype": "text/x-python",
   "name": "python",
   "nbconvert_exporter": "python",
   "pygments_lexer": "ipython3",
   "version": "3.8.5"
  }
 },
 "nbformat": 4,
 "nbformat_minor": 4
}
